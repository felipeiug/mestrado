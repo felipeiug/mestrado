{
 "cells": [
  {
   "cell_type": "markdown",
   "id": "926271b5",
   "metadata": {},
   "source": [
    "# Processamento dos dados"
   ]
  },
  {
   "cell_type": "code",
   "execution_count": 1,
   "id": "b10a86f9",
   "metadata": {},
   "outputs": [],
   "source": [
    "import pandas as pd\n",
    "from utils import Infiltrometro"
   ]
  },
  {
   "cell_type": "code",
   "execution_count": null,
   "id": "5cff558f",
   "metadata": {},
   "outputs": [],
   "source": [
    "infil = pd.read_excel(r\"D:\\Mestrado\\Trabalho Final\\Dados\\Levantamento em Campo\\Compiled.xlsx\", sheet_name=\"Infiltracao\")\n",
    "infil = Infiltrometro(infil)"
   ]
  },
  {
   "cell_type": "code",
   "execution_count": 29,
   "id": "379eab55",
   "metadata": {},
   "outputs": [
    {
     "name": "stdout",
     "output_type": "stream",
     "text": [
      "277\n"
     ]
    }
   ],
   "source": [
    "print(len(dados))\n",
    "\n",
    "pts = \"P\" + dados[\"Ponto\"].astype(str)\n",
    "\n",
    "m1 = dados[\"PROF\"] == \"0 - 20\"\n",
    "m2 = pts.isin(infil[\"PONTO\"])\n",
    "mask = m1 & m2\n",
    "\n",
    "df = dados[mask].copy()\n",
    "\n",
    "areia = df[\"Areia(Grossa)\"] + df[\"Areia(Fina)\"]\n",
    "\n",
    "df[\"PT2\"] = pts\n",
    "df[\"Areia\"] = areia\n",
    "\n",
    "df[[\"PT2\", \"Areia\", \"Argila\", \"Silte\"]].to_excel(\"excluir.xlsx\")"
   ]
  }
 ],
 "metadata": {
  "kernelspec": {
   "display_name": "libs",
   "language": "python",
   "name": "python3"
  },
  "language_info": {
   "codemirror_mode": {
    "name": "ipython",
    "version": 3
   },
   "file_extension": ".py",
   "mimetype": "text/x-python",
   "name": "python",
   "nbconvert_exporter": "python",
   "pygments_lexer": "ipython3",
   "version": "3.12.8"
  }
 },
 "nbformat": 4,
 "nbformat_minor": 5
}
