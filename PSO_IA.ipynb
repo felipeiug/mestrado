{
 "cells": [
  {
   "cell_type": "markdown",
   "id": "f436e255",
   "metadata": {},
   "source": [
    "### Metodologia para ajustar uma MLP com PSO"
   ]
  },
  {
   "cell_type": "code",
   "execution_count": 1,
   "id": "384c822c",
   "metadata": {},
   "outputs": [],
   "source": [
    "import os\n",
    "import pandas as pd\n",
    "import pyswarms as ps\n",
    "import numpy as np\n",
    "import torch\n",
    "import torch.nn as nn\n",
    "import torch.optim as optim\n",
    "from torch.utils.data import TensorDataset, Dataset, DataLoader, random_split"
   ]
  },
  {
   "cell_type": "code",
   "execution_count": 2,
   "id": "301c4b51",
   "metadata": {},
   "outputs": [],
   "source": [
    "# Configurações do Usuário\n",
    "seed = 42\n",
    "\n",
    "n_particles = 100\n",
    "iters = 1000\n",
    "options={\n",
    "    'c1': 1.2,\n",
    "    'c2': 1.5,\n",
    "    'w': 0.8\n",
    "}\n",
    "\n",
    "MIN_LAYERS = 2\n",
    "MAX_LAYERS = 3#12\n",
    "\n",
    "H_MIN, H_MAX = 8, 256\n",
    "\n",
    "MIN_BATCH_SIZE = 3\n",
    "MAX_BATCH_SIZE = 16\n",
    "\n",
    "MIN_EPOCHS = 100\n",
    "MAX_EPOCHS = 1000"
   ]
  },
  {
   "cell_type": "code",
   "execution_count": 3,
   "id": "3ddd33e2",
   "metadata": {},
   "outputs": [
    {
     "name": "stdout",
     "output_type": "stream",
     "text": [
      "Device: cuda\n"
     ]
    }
   ],
   "source": [
    "# 1) Dispositivo (GPU se disponível)\n",
    "device = torch.device(\"cuda\" if torch.cuda.is_available() else \"cpu\")\n",
    "print(\"Device:\", device)"
   ]
  },
  {
   "cell_type": "code",
   "execution_count": 4,
   "id": "61bc8eb1",
   "metadata": {},
   "outputs": [
    {
     "data": {
      "text/plain": [
       "(tensor([  425425.5312,  1593439.6250,  2454990.7500,  2904233.0000,\n",
       "          3200625.2500,  3386087.0000,  3502249.7500,  3584784.7500,\n",
       "          3711732.0000,  3955087.7500,  4242401.0000,  4539171.5000,\n",
       "          4945589.0000,  5439565.5000,  6010108.5000,  6861901.5000,\n",
       "          8223011.5000,  9917463.0000, 11664266.0000, 13935964.0000,\n",
       "         16049387.0000, 17868272.0000, 19369568.0000, 20319352.0000,\n",
       "         21157144.0000, 22240874.0000, 23280512.0000, 24311956.0000,\n",
       "         25211888.0000, 26024682.0000, 26692372.0000], device='cuda:0'),\n",
       " tensor([10.9538], device='cuda:0'))"
      ]
     },
     "execution_count": 4,
     "metadata": {},
     "output_type": "execute_result"
    }
   ],
   "source": [
    "# 2) Dataset\n",
    "class MeuDataset(Dataset):\n",
    "    def __init__(self):\n",
    "        self.nix = pd.read_excel(r\"D:\\Mestrado\\Trabalho Final\\Dados\\Levantamento em Campo\\Compiled.xlsx\", sheet_name=\"Nix\")\n",
    "        self.pXRF = pd.read_excel(r\"D:\\Mestrado\\Trabalho Final\\Dados\\Levantamento em Campo\\Compiled.xlsx\", sheet_name=\"pXRF\")\n",
    "\n",
    "        self.nix_bands = [\n",
    "            \"R400 nm\", \"R410 nm\", \"R420 nm\", \"R430 nm\",\n",
    "            \"R440 nm\", \"R450 nm\", \"R460 nm\", \"R470 nm\",\n",
    "            \"R480 nm\", \"R490 nm\", \"R500 nm\", \"R510 nm\",\n",
    "            \"R520 nm\", \"R530 nm\", \"R540 nm\", \"R550 nm\",\n",
    "            \"R560 nm\", \"R570 nm\", \"R580 nm\", \"R590 nm\",\n",
    "            \"R600 nm\", \"R610 nm\", \"R620 nm\", \"R630 nm\",\n",
    "            \"R640 nm\", \"R650 nm\", \"R660 nm\", \"R670 nm\",\n",
    "            \"R680 nm\", \"R690 nm\", \"R700 nm\",\n",
    "        ]\n",
    "\n",
    "    def __len__(self):\n",
    "        return len(self.nix)\n",
    "\n",
    "    def __getitem__(self, idx):\n",
    "        x = self.nix.loc[idx][self.nix_bands].values\n",
    "        x = torch.from_numpy(x.astype(np.float32))\n",
    "        x = x.to(device=device)\n",
    "\n",
    "        y = self.pXRF.loc[idx]['Fe']\n",
    "        if not isinstance(idx, int):\n",
    "            y = y.values\n",
    "\n",
    "        y = torch.from_numpy(np.array([y.astype(np.float32)]))\n",
    "        y = y.to(device=device)\n",
    "\n",
    "        return x, y\n",
    "    \n",
    "dataset = MeuDataset()\n",
    "dataset[1:3]\n",
    "dataset[1]"
   ]
  },
  {
   "cell_type": "code",
   "execution_count": 5,
   "id": "5e4e45c6",
   "metadata": {},
   "outputs": [],
   "source": [
    "# 3) Modelo (MLP simples)\n",
    "class MLP(nn.Module):\n",
    "    def __init__(self, in_features=4, hidden=[16], out_features=1):\n",
    "        super().__init__()\n",
    "\n",
    "        hiddens = []\n",
    "        last_hidden = in_features\n",
    "        \n",
    "        for n_hidden in hidden:\n",
    "            hiddens.append(nn.Linear(last_hidden, n_hidden))\n",
    "            hiddens.append(nn.ReLU())\n",
    "            last_hidden = n_hidden\n",
    "        \n",
    "        hiddens.append(nn.Linear(last_hidden, out_features))\n",
    "\n",
    "        self.net = nn.Sequential(*hiddens)\n",
    "\n",
    "    def forward(self, x):\n",
    "        return self.net(x)\n",
    "\n",
    "# mlp = MLP(5, [10, 20], 1)\n",
    "# mlp"
   ]
  },
  {
   "cell_type": "code",
   "execution_count": 6,
   "id": "a19d6fac",
   "metadata": {},
   "outputs": [
    {
     "data": {
      "text/plain": [
       "(<torch.utils.data.dataset.Subset at 0x1bc9f2b8f20>,\n",
       " <torch.utils.data.dataset.Subset at 0x1bc9f1f25a0>,\n",
       " <torch.utils.data.dataset.Subset at 0x1bc9f3c6d80>)"
      ]
     },
     "execution_count": 6,
     "metadata": {},
     "output_type": "execute_result"
    }
   ],
   "source": [
    "# 4) DataLoaders\n",
    "from torch.utils.data import random_split, DataLoader\n",
    "\n",
    "n = len(dataset)\n",
    "n_train = int(0.7*n)\n",
    "n_val = int(0.15*n)\n",
    "n_test = n - n_train - n_val\n",
    "g = torch.Generator().manual_seed(seed)\n",
    "\n",
    "train_ds, val_ds, test_ds = random_split(dataset, [n_train, n_val, n_test], generator=g)\n",
    "\n",
    "train_ds, val_ds, test_ds"
   ]
  },
  {
   "cell_type": "code",
   "execution_count": 7,
   "id": "8beef3e9",
   "metadata": {},
   "outputs": [],
   "source": [
    "# 5) Loop de treino + validação (early stopping)\n",
    "def run_mlp(hidden_layers:list[int], epochs:int, batch_size:int, lr:float):\n",
    "    model = MLP(len(dataset.nix_bands), hidden_layers, 1).to(device=device)\n",
    "\n",
    "    criterion = nn.MSELoss()\n",
    "    optimizer = optim.Adam(model.parameters(), lr=lr)\n",
    "\n",
    "    train_loader = DataLoader(train_ds, batch_size=batch_size, shuffle=True)\n",
    "    val_loader   = DataLoader(val_ds, batch_size=batch_size)\n",
    "    test_loader  = DataLoader(test_ds, batch_size=batch_size)\n",
    "\n",
    "    best_val_loss = torch.inf\n",
    "    best_state = None\n",
    "    \n",
    "    for epoch in range(1, epochs+1):\n",
    "        # --- treino ---\n",
    "        model.train()\n",
    "        running_loss = 0.0\n",
    "        for x, y in train_loader:\n",
    "\n",
    "            optimizer.zero_grad()\n",
    "            y_sim = model(x)\n",
    "\n",
    "            loss = criterion(y_sim, y)\n",
    "            running_loss += loss.item() * x.size(0)\n",
    "\n",
    "            loss.backward()\n",
    "            optimizer.step()\n",
    "\n",
    "        train_loss = running_loss / len(train_loader.dataset)\n",
    "\n",
    "        # --- validação ---\n",
    "        model.eval()\n",
    "        val_loss = 0.0\n",
    "\n",
    "        with torch.no_grad():\n",
    "            for x, y in val_loader:\n",
    "                # Forward\n",
    "                y_sim = model(x)\n",
    "\n",
    "                loss = criterion(y_sim, y)\n",
    "                val_loss += loss.item() * x.size(0)\n",
    "\n",
    "        # Média do loss\n",
    "        val_loss /= len(val_loader.dataset)\n",
    "\n",
    "        print(f\"Epoch {epoch}/{epochs} | Train Loss: {train_loss:.4f} | Val Loss: {val_loss:.4f}\", end=\"\\r\", flush=True)\n",
    "\n",
    "        # early stopping simples\n",
    "        if val_loss < best_val_loss:\n",
    "            best_val_loss = val_loss\n",
    "            best_state = {\n",
    "                \"lr\":lr,\n",
    "                \"epoch\": epoch,\n",
    "                \"epochs\":epochs,\n",
    "                \"val_loss\":val_loss,\n",
    "                \"train_loss\":train_loss,\n",
    "                \"batch_size\":batch_size,\n",
    "                \"hidden_layers\":hidden_layers,\n",
    "                \"model_state\":model.state_dict(),\n",
    "            }\n",
    "    \n",
    "    model.load_state_dict(best_state['model_state'])\n",
    "    model.eval()\n",
    "    \n",
    "    test_loss = 0.0\n",
    "    with torch.no_grad():\n",
    "        for x, y in test_loader:\n",
    "            y_sim = model(x)\n",
    "\n",
    "            loss = criterion(y_sim, y)\n",
    "            test_loss += loss.item() * x.size(0)\n",
    "\n",
    "    test_loss /= len(test_loader.dataset)\n",
    "\n",
    "    return best_state, test_loss\n",
    "\n",
    "# a = run_mlp([8, 16, 32], 50, 3, 1E-3)\n",
    "# a"
   ]
  },
  {
   "cell_type": "code",
   "execution_count": 8,
   "id": "7d623d2b",
   "metadata": {},
   "outputs": [
    {
     "data": {
      "text/plain": [
       "(100, 16, 0.001, [1, 7, 10, 15])"
      ]
     },
     "execution_count": 8,
     "metadata": {},
     "output_type": "execute_result"
    }
   ],
   "source": [
    "# 6) Decoder da Partícula\n",
    "# P[0] -> Epochs\n",
    "# P[1] -> Batch Size\n",
    "# P[2] -> log(lr)\n",
    "# P[3:MAX_LAYERS] -> Quantidade de neurônios em cada camada\n",
    "\n",
    "def decode_particle(p:np.ndarray):\n",
    "    epochs = int(round(p[0]))\n",
    "    epochs = int(np.clip(epochs, MIN_EPOCHS, MAX_EPOCHS))\n",
    "\n",
    "    batch_size = int(round(p[1]))\n",
    "    batch_size = int(np.clip(batch_size, MIN_BATCH_SIZE, MAX_BATCH_SIZE))\n",
    "    \n",
    "    lr = 10.0 ** float(p[2])\n",
    "\n",
    "    layers = []\n",
    "    for layer in p[3:len(p)]:\n",
    "        n_hidden = int(round(layer))\n",
    "        if(n_hidden == 0):\n",
    "            continue\n",
    "\n",
    "        layers.append(n_hidden)\n",
    "    \n",
    "    while len(layers) < MIN_LAYERS:\n",
    "        layers.append(1)\n",
    "    \n",
    "    return epochs, batch_size, lr, layers\n",
    "\n",
    "decode_particle([99, 17, -3, 1, 7, 10, 15])\n"
   ]
  },
  {
   "cell_type": "code",
   "execution_count": 9,
   "id": "0afb2c23",
   "metadata": {},
   "outputs": [],
   "source": [
    "# 7) Função Objetivo\n",
    "\n",
    "os.makedirs(\"save_state/\", exist_ok=True)\n",
    "def objective(P):\n",
    "    losses = []\n",
    "    best_loss = np.inf\n",
    "    best_state = None\n",
    "\n",
    "    for part in P:\n",
    "        epochs, batch_size, lr, hiddens  = decode_particle(part)\n",
    "\n",
    "        state, loss = run_mlp(hiddens, epochs, batch_size, lr)\n",
    "\n",
    "        if loss < best_loss:\n",
    "            best_loss = loss\n",
    "\n",
    "            best_state = {\n",
    "                \"particle\": part,\n",
    "                \"state\":state,\n",
    "            }\n",
    "\n",
    "        losses.append(loss + epochs)\n",
    "\n",
    "    torch.save(best_state, f\"save_state/{str(loss).replace(\".\", \"_\")}.pth\")\n",
    "\n",
    "    return np.array(losses, dtype=float)\n",
    "\n",
    "# objective([\n",
    "#     [100, 4, -4, 3, 0, 6],\n",
    "#     [100, 4, -4, 3, 5, 6],\n",
    "# ])"
   ]
  },
  {
   "cell_type": "code",
   "execution_count": null,
   "id": "15b63ec7",
   "metadata": {},
   "outputs": [],
   "source": [
    "# 8) Run PSO\n",
    "\n",
    "lower = [MIN_EPOCHS, MIN_BATCH_SIZE, -10]\n",
    "upper = [MAX_EPOCHS, MAX_BATCH_SIZE, 1]\n",
    "\n",
    "for layer in range(MAX_LAYERS):\n",
    "    lower.append(H_MIN)\n",
    "    upper.append(H_MAX)\n",
    "\n",
    "optimizer = ps.single.GlobalBestPSO(\n",
    "    n_particles=n_particles,\n",
    "    dimensions=3+MAX_LAYERS,\n",
    "    options=options,\n",
    "    bounds=(lower, upper)\n",
    ")\n",
    "best_cost, best_pos = optimizer.optimize(objective, iters=iters)\n",
    "\n",
    "best_hidden = decode_particle(best_pos)\n",
    "print(\"Melhor val loss:\", best_cost)\n",
    "print(\"Melhor vetor:\", best_hidden)"
   ]
  },
  {
   "cell_type": "code",
   "execution_count": null,
   "id": "c50ed67b",
   "metadata": {},
   "outputs": [],
   "source": [
    "# View Result\n",
    "# torch.load(r\"save_state\\916_9910390753495.pth\", weights_only=False)\n",
    "print(\"JOIA\")"
   ]
  }
 ],
 "metadata": {
  "kernelspec": {
   "display_name": "libs",
   "language": "python",
   "name": "python3"
  },
  "language_info": {
   "codemirror_mode": {
    "name": "ipython",
    "version": 3
   },
   "file_extension": ".py",
   "mimetype": "text/x-python",
   "name": "python",
   "nbconvert_exporter": "python",
   "pygments_lexer": "ipython3",
   "version": "3.12.8"
  }
 },
 "nbformat": 4,
 "nbformat_minor": 5
}
