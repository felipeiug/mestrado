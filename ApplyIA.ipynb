{
 "cells": [
  {
   "cell_type": "markdown",
   "id": "7bc68835",
   "metadata": {},
   "source": [
    "# Código para aplicar o melhor resultado obtido no ajuste da MLP"
   ]
  },
  {
   "cell_type": "code",
   "execution_count": 9,
   "id": "bec2d286",
   "metadata": {},
   "outputs": [],
   "source": [
    "import os\n",
    "import GPUtil\n",
    "import psutil\n",
    "import rasterio\n",
    "import numpy as np\n",
    "import pandas as pd\n",
    "import xarray as xr\n",
    "import asciichartpy\n",
    "import geopandas as gpd\n",
    "import rioxarray as rxr\n",
    "\n",
    "from tqdm import tqdm, trange\n",
    "from pyproj import Transformer\n",
    "from utils.consts import SOIL_TYPES\n",
    "from rasterio.transform import rowcol\n",
    "from IPython.display import clear_output\n",
    "from concurrent.futures import ThreadPoolExecutor, as_completed \n",
    "\n",
    "import torch\n",
    "import torch.nn as nn\n",
    "\n",
    "from Model1.codes.mlp import MLP\n",
    "from Model1.codes.dataset import MeuDataset"
   ]
  },
  {
   "cell_type": "code",
   "execution_count": 10,
   "id": "1b9cde30",
   "metadata": {},
   "outputs": [
    {
     "name": "stdout",
     "output_type": "stream",
     "text": [
      "Device: cuda\n"
     ]
    }
   ],
   "source": [
    "device = torch.device(\"cuda\" if torch.cuda.is_available() else \"cpu\")\n",
    "print(\"Device:\", device)"
   ]
  },
  {
   "cell_type": "markdown",
   "id": "5302abd8",
   "metadata": {},
   "source": [
    "### Carregando os dados salvos"
   ]
  },
  {
   "cell_type": "code",
   "execution_count": 11,
   "id": "e05d75a5",
   "metadata": {},
   "outputs": [],
   "source": [
    "save = torch.load(r\"Model1\\143_6340058853885.pth\")"
   ]
  },
  {
   "cell_type": "code",
   "execution_count": 12,
   "id": "2302b0db",
   "metadata": {},
   "outputs": [
    {
     "name": "stdout",
     "output_type": "stream",
     "text": [
      "Lendo Tabelas\n",
      "Lendo Rasteres\n",
      "Processando dados\n"
     ]
    }
   ],
   "source": [
    "dataset = MeuDataset(device=device, eval=True)"
   ]
  },
  {
   "cell_type": "code",
   "execution_count": 13,
   "id": "a138e40c",
   "metadata": {},
   "outputs": [
    {
     "data": {
      "text/plain": [
       "tensor([[nan]], device='cuda:0', dtype=torch.float64, grad_fn=<AddmmBackward0>)"
      ]
     },
     "execution_count": 13,
     "metadata": {},
     "output_type": "execute_result"
    }
   ],
   "source": [
    "mlp = MLP().to(device=device)\n",
    "mlp.load_state_dict(save['model_state'])\n",
    "mlp.eval()  # entra em modo de inferência\n",
    "\n",
    "mlp(*dataset[0])"
   ]
  },
  {
   "cell_type": "code",
   "execution_count": null,
   "id": "d38b5868",
   "metadata": {},
   "outputs": [],
   "source": [
    "step = 50\n",
    "values = np.zeros(len(dataset), dtype=np.float32)\n",
    "\n",
    "def tarefa(idx):\n",
    "    x = dataset[idx]\n",
    "    y_pred = mlp(*x)\n",
    "\n",
    "    return idx, y_pred[:, 0]\n",
    "\n",
    "with torch.no_grad():  # evita cálculo de gradiente\n",
    "    futuros = []\n",
    "    for idx in trange(0, len(dataset), step, desc=\"Processando\"):\n",
    "        start = idx\n",
    "        end = min(len(dataset), start+step)\n",
    "\n",
    "        idx, val = tarefa(slice(start, end))\n",
    "        values[idx] = [i.item() for i in val]\n",
    "\n",
    "values = np.reshape(values, dataset.uso_solo.values[0].shape) # type: ignore\n",
    "values"
   ]
  },
  {
   "cell_type": "code",
   "execution_count": null,
   "id": "e021e4fa",
   "metadata": {},
   "outputs": [],
   "source": [
    "coords = {\"y\": dataset.uso_solo.y, \"x\": dataset.uso_solo.x} # type: ignore\n",
    "\n",
    "da = xr.DataArray(\n",
    "    values,\n",
    "    coords=coords,\n",
    "    dims=(\"y\",\"x\"),\n",
    "    name=\"K\"\n",
    ")\n",
    "da = da.expand_dims(\"band\").assign_coords(band=[1])\n",
    "\n",
    "stack = da.rio.write_crs(dataset.uso_solo.rio.crs) # type: ignore\n",
    "stack = stack.rio.write_transform(dataset.uso_solo.rio.transform()) # type: ignore\n",
    "stack.rio.to_raster(fr\"D:/Mestrado/Trabalho Final/SIG/K_espacializado.tif\", compress=\"LZW\")"
   ]
  },
  {
   "cell_type": "code",
   "execution_count": null,
   "id": "630e7c1d",
   "metadata": {},
   "outputs": [
    {
     "data": {
      "text/plain": [
       "np.float64(9.135550702056427)"
      ]
     },
     "execution_count": 21,
     "metadata": {},
     "output_type": "execute_result"
    }
   ],
   "source": [
    "values[~np.isnan(values)].min()"
   ]
  }
 ],
 "metadata": {
  "kernelspec": {
   "display_name": "libs",
   "language": "python",
   "name": "python3"
  },
  "language_info": {
   "codemirror_mode": {
    "name": "ipython",
    "version": 3
   },
   "file_extension": ".py",
   "mimetype": "text/x-python",
   "name": "python",
   "nbconvert_exporter": "python",
   "pygments_lexer": "ipython3",
   "version": "3.12.8"
  }
 },
 "nbformat": 4,
 "nbformat_minor": 5
}
