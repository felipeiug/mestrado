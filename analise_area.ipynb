{
 "cells": [
  {
   "cell_type": "markdown",
   "id": "729a9988",
   "metadata": {},
   "source": [
    "# Código para análise das áreas que serão comparadas no estudo"
   ]
  },
  {
   "cell_type": "code",
   "execution_count": 82,
   "id": "572d8e70",
   "metadata": {},
   "outputs": [],
   "source": [
    "import rioxarray as rxr\n",
    "import geopandas as gpd\n",
    "import numpy as np\n",
    "import pandas as pd\n",
    "import matplotlib.pyplot as plt\n",
    "from shapely.geometry import mapping\n",
    "from matplotlib.ticker import FuncFormatter\n",
    "from utils import USO_SOLO_CLASS"
   ]
  },
  {
   "cell_type": "code",
   "execution_count": 25,
   "id": "7ad209bb",
   "metadata": {},
   "outputs": [
    {
     "data": {
      "text/plain": [
       "0    POLYGON ((594537.665 7783882.61, 594533.817 77...\n",
       "Name: geometry, dtype: geometry"
      ]
     },
     "execution_count": 25,
     "metadata": {},
     "output_type": "execute_result"
    }
   ],
   "source": [
    "sumidouro = gpd.read_file(r\"D:\\Mestrado\\Trabalho Final\\SIG\\Sumidouro.zip\")\n",
    "area2     = gpd.read_file(r\"D:\\Mestrado\\Trabalho Final\\SIG\\Area2.zip\")\n",
    "\n",
    "sumidouro.geometry"
   ]
  },
  {
   "cell_type": "code",
   "execution_count": 21,
   "id": "ed745bae",
   "metadata": {},
   "outputs": [
    {
     "name": "stdout",
     "output_type": "stream",
     "text": [
      "Projeção Sumidouro: EPSG:31983\n",
      "Projeção Área 2: EPSG:31983\n"
     ]
    }
   ],
   "source": [
    "print(\"Projeção Sumidouro:\", sumidouro.crs)\n",
    "print(\"Projeção Área 2:\", area2.crs)"
   ]
  },
  {
   "cell_type": "code",
   "execution_count": 22,
   "id": "ce51de2f",
   "metadata": {},
   "outputs": [
    {
     "name": "stdout",
     "output_type": "stream",
     "text": [
      "Sumidouro:\n",
      "Área (km²): 10.66805087038847\t\n",
      "Perímetro (km): 19.360864063714388\t\n",
      "Compacidade: 1.6721578219935491\n",
      "\n",
      "Área 2:\n",
      "Área (km²): 9.694919150296766\t\n",
      "Perímetro (km): 19.13852925586551\t\n",
      "Compacidade: 1.733929887427294\n"
     ]
    }
   ],
   "source": [
    "def basin_geom_metrics(poly: gpd.GeoSeries | gpd.GeoDataFrame) -> dict:\n",
    "    g = poly.geometry if isinstance(poly, gpd.GeoDataFrame) else poly\n",
    "    area_m2 = g.area.item() if hasattr(g, \"item\") else g.area\n",
    "    perim_m = g.length.item() if hasattr(g, \"item\") else g.length\n",
    "    # compacidade de Gravelius\n",
    "    k = perim_m / (2.0 * np.sqrt(np.pi * area_m2))\n",
    "    return {\n",
    "        \"Área (km²)\": area_m2 / 1e6,\n",
    "        \"Perímetro (km)\": perim_m / 1000.0,\n",
    "        \"Compacidade\": k,\n",
    "    }\n",
    "\n",
    "print(\"Sumidouro:\")\n",
    "print(\"\\t\\n\".join([f\"{k}: {v}\" for k, v in basin_geom_metrics(sumidouro).items()]))\n",
    "\n",
    "print(\"\\nÁrea 2:\")\n",
    "print(\"\\t\\n\".join([f\"{k}: {v}\" for k, v in basin_geom_metrics(area2).items()]))"
   ]
  },
  {
   "cell_type": "markdown",
   "id": "7eb7a0d1",
   "metadata": {},
   "source": [
    "## Distribuição do Uso e Ocupação do Solo"
   ]
  },
  {
   "cell_type": "code",
   "execution_count": 23,
   "id": "b317a0c4",
   "metadata": {},
   "outputs": [
    {
     "name": "stdout",
     "output_type": "stream",
     "text": [
      "Nulos: 15\n",
      "Valores: (9099, 9099)\n",
      "Projeção: EPSG:31983\n"
     ]
    }
   ],
   "source": [
    "uso_solo = rxr.open_rasterio(r\"D:/Mestrado/Trabalho Final/SIG/USOSOLO.tif\")\n",
    "\n",
    "valor_nulo = uso_solo.rio.nodata\n",
    "print(\"Nulos:\", valor_nulo)\n",
    "\n",
    "valores = uso_solo.values[0]\n",
    "print(\"Valores:\", valores.shape)\n",
    "\n",
    "proj = uso_solo.rio.crs\n",
    "print(\"Projeção:\", proj)"
   ]
  },
  {
   "cell_type": "code",
   "execution_count": null,
   "id": "7b451dfb",
   "metadata": {},
   "outputs": [
    {
     "name": "stdout",
     "output_type": "stream",
     "text": [
      "Sumidouro: (1, 2629, 2226) 5852154\n",
      "Área 2:    (1, 3094, 1981) 6129214\n"
     ]
    }
   ],
   "source": [
    "uso_sumidouro = uso_solo.rio.clip([mapping(sumidouro.geometry.union_all())], proj, drop=True)\n",
    "uso_area2     = uso_solo.rio.clip([mapping(area2.geometry.union_all())], proj, drop=True)\n",
    "\n",
    "print(\"Sumidouro:\", uso_sumidouro.values.shape, uso_sumidouro.values.size)\n",
    "print(\"Área 2:   \", uso_area2.values.shape, uso_area2.values.size)"
   ]
  },
  {
   "cell_type": "code",
   "execution_count": 56,
   "id": "c4ff5592",
   "metadata": {},
   "outputs": [
    {
     "name": "stdout",
     "output_type": "stream",
     "text": [
      "Sumidouro: 1        7616\n",
      "2     1085384\n",
      "3       53199\n",
      "4      207289\n",
      "5     1080527\n",
      "6       35623\n",
      "7      106355\n",
      "8       50194\n",
      "9       40815\n",
      "13         88\n",
      "Name: count, dtype: int64 Total: 2667090\n",
      "Área 2: 1     39607\n",
      "2    948014\n",
      "3     33699\n",
      "4    173413\n",
      "5    982699\n",
      "6     90914\n",
      "7      8409\n",
      "8     27306\n",
      "9    119056\n",
      "Name: count, dtype: int64 Total: 2423117\n"
     ]
    }
   ],
   "source": [
    "def counts_by_value(da, nodata=set()):\n",
    "    arr = da.data\n",
    "    arr = arr[np.isfinite(arr)].astype(int)\n",
    "    if nodata:\n",
    "        arr = arr[~np.isin(arr, list(nodata))]\n",
    "    return pd.Series(arr).value_counts().sort_index(), arr.size\n",
    "\n",
    "c_sumid, size_sumid = counts_by_value(uso_sumidouro, {0, 15})\n",
    "c_area2, size_area2 = counts_by_value(uso_area2    , {0, 15})\n",
    "\n",
    "print(\"Sumidouro:\", c_sumid, \"Total:\", size_sumid)\n",
    "print(\"Área 2:\",    c_area2, \"Total:\", size_area2)"
   ]
  },
  {
   "cell_type": "code",
   "execution_count": 57,
   "id": "c5e04bb2",
   "metadata": {},
   "outputs": [
    {
     "data": {
      "text/html": [
       "<div>\n",
       "<style scoped>\n",
       "    .dataframe tbody tr th:only-of-type {\n",
       "        vertical-align: middle;\n",
       "    }\n",
       "\n",
       "    .dataframe tbody tr th {\n",
       "        vertical-align: top;\n",
       "    }\n",
       "\n",
       "    .dataframe thead th {\n",
       "        text-align: right;\n",
       "    }\n",
       "</style>\n",
       "<table border=\"1\" class=\"dataframe\">\n",
       "  <thead>\n",
       "    <tr style=\"text-align: right;\">\n",
       "      <th></th>\n",
       "      <th>Label</th>\n",
       "      <th>Sumidouro</th>\n",
       "      <th>Área 2</th>\n",
       "      <th>Sumidouro %</th>\n",
       "      <th>Área 2 %</th>\n",
       "    </tr>\n",
       "  </thead>\n",
       "  <tbody>\n",
       "    <tr>\n",
       "      <th>0</th>\n",
       "      <td>No Data</td>\n",
       "      <td>7616</td>\n",
       "      <td>39607</td>\n",
       "      <td>0.285555</td>\n",
       "      <td>1.634548</td>\n",
       "    </tr>\n",
       "    <tr>\n",
       "      <th>1</th>\n",
       "      <td>Canga</td>\n",
       "      <td>1085384</td>\n",
       "      <td>948014</td>\n",
       "      <td>40.695440</td>\n",
       "      <td>39.123740</td>\n",
       "    </tr>\n",
       "    <tr>\n",
       "      <th>2</th>\n",
       "      <td>Vegetação Rasteira</td>\n",
       "      <td>53199</td>\n",
       "      <td>33699</td>\n",
       "      <td>1.994646</td>\n",
       "      <td>1.390729</td>\n",
       "    </tr>\n",
       "    <tr>\n",
       "      <th>3</th>\n",
       "      <td>Industrial</td>\n",
       "      <td>207289</td>\n",
       "      <td>173413</td>\n",
       "      <td>7.772104</td>\n",
       "      <td>7.156609</td>\n",
       "    </tr>\n",
       "    <tr>\n",
       "      <th>4</th>\n",
       "      <td>Residencial</td>\n",
       "      <td>1080527</td>\n",
       "      <td>982699</td>\n",
       "      <td>40.513331</td>\n",
       "      <td>40.555161</td>\n",
       "    </tr>\n",
       "    <tr>\n",
       "      <th>5</th>\n",
       "      <td>Vegetação Densa</td>\n",
       "      <td>35623</td>\n",
       "      <td>90914</td>\n",
       "      <td>1.335650</td>\n",
       "      <td>3.751944</td>\n",
       "    </tr>\n",
       "    <tr>\n",
       "      <th>6</th>\n",
       "      <td>Solo Exposto</td>\n",
       "      <td>106355</td>\n",
       "      <td>8409</td>\n",
       "      <td>3.987679</td>\n",
       "      <td>0.347032</td>\n",
       "    </tr>\n",
       "    <tr>\n",
       "      <th>7</th>\n",
       "      <td>Água</td>\n",
       "      <td>50194</td>\n",
       "      <td>27306</td>\n",
       "      <td>1.881976</td>\n",
       "      <td>1.126896</td>\n",
       "    </tr>\n",
       "    <tr>\n",
       "      <th>8</th>\n",
       "      <td>Pousio</td>\n",
       "      <td>40815</td>\n",
       "      <td>119056</td>\n",
       "      <td>1.530320</td>\n",
       "      <td>4.913341</td>\n",
       "    </tr>\n",
       "    <tr>\n",
       "      <th>9</th>\n",
       "      <td>Agricultura</td>\n",
       "      <td>88</td>\n",
       "      <td>0</td>\n",
       "      <td>0.003299</td>\n",
       "      <td>0.000000</td>\n",
       "    </tr>\n",
       "  </tbody>\n",
       "</table>\n",
       "</div>"
      ],
      "text/plain": [
       "                Label  Sumidouro  Área 2  Sumidouro %   Área 2 %\n",
       "0             No Data       7616   39607     0.285555   1.634548\n",
       "1               Canga    1085384  948014    40.695440  39.123740\n",
       "2  Vegetação Rasteira      53199   33699     1.994646   1.390729\n",
       "3          Industrial     207289  173413     7.772104   7.156609\n",
       "4         Residencial    1080527  982699    40.513331  40.555161\n",
       "5     Vegetação Densa      35623   90914     1.335650   3.751944\n",
       "6        Solo Exposto     106355    8409     3.987679   0.347032\n",
       "7                Água      50194   27306     1.881976   1.126896\n",
       "8              Pousio      40815  119056     1.530320   4.913341\n",
       "9         Agricultura         88       0     0.003299   0.000000"
      ]
     },
     "execution_count": 57,
     "metadata": {},
     "output_type": "execute_result"
    }
   ],
   "source": [
    "# --- junta e plota (x = valor do pixel) ---\n",
    "df = pd.DataFrame({\"Sumidouro\": c_sumid, \"Área 2\": c_area2}).fillna(0).astype(int).reset_index()\n",
    "df[\"Label\"] = [USO_SOLO_CLASS[i][\"name\"] for i in df.index.values]\n",
    "df = df[[\"Label\", \"Sumidouro\", \"Área 2\"]]\n",
    "\n",
    "df[\"Sumidouro %\"] = (df[\"Sumidouro\"]/size_sumid)*100\n",
    "df[\"Área 2 %\"]    = (df[\"Área 2\"]/size_area2)*100\n",
    "\n",
    "df"
   ]
  },
  {
   "cell_type": "code",
   "execution_count": 61,
   "id": "9334ab6c",
   "metadata": {},
   "outputs": [
    {
     "data": {
      "image/png": "[encoded data removed]",
      "text/plain": [
       "<Figure size 900x450 with 1 Axes>"
      ]
     },
     "metadata": {},
     "output_type": "display_data"
    }
   ],
   "source": [
    "x = np.arange(len(df))\n",
    "width = 0.45\n",
    "\n",
    "plt.figure(figsize=(9, 4.5))\n",
    "plt.bar(x - width/2, df['Sumidouro %'], width, label='Sumidouro %')\n",
    "plt.bar(x + width/2, df[\"Área 2 %\"], width, label=\"Área 2 %\")\n",
    "plt.xticks(x, df[\"Label\"], rotation=90)\n",
    "plt.ylabel(\"% do Uso\")\n",
    "plt.xlabel(\"Tipo de Uso\")\n",
    "plt.title(\"Uso do Solo (Sumidouro e Área 2)\")\n",
    "plt.legend()\n",
    "plt.tight_layout()\n",
    "plt.show()"
   ]
  },
  {
   "cell_type": "markdown",
   "id": "fc81d3d3",
   "metadata": {},
   "source": [
    "## Distribuição da Elevação"
   ]
  },
  {
   "cell_type": "code",
   "execution_count": 62,
   "id": "2f0f922a",
   "metadata": {},
   "outputs": [
    {
     "name": "stdout",
     "output_type": "stream",
     "text": [
      "Nulos: None\n"
     ]
    }
   ],
   "source": [
    "elevacao = rxr.open_rasterio(r\"d:\\Mestrado\\Trabalho Final\\SIG\\Elevation.tif\")\n",
    "\n",
    "valor_nulo = elevacao.rio.nodata\n",
    "print(\"Nulos:\", valor_nulo)"
   ]
  },
  {
   "cell_type": "code",
   "execution_count": 63,
   "id": "f08e382b",
   "metadata": {},
   "outputs": [
    {
     "name": "stdout",
     "output_type": "stream",
     "text": [
      "Sumidouro: (1, 2629, 2226) 5852154\n",
      "Área 2:    (1, 3094, 1981) 6129214\n"
     ]
    }
   ],
   "source": [
    "el_sumidouro = elevacao.rio.clip([mapping(sumidouro.geometry.union_all())], proj, drop=True)\n",
    "el_area2     = elevacao.rio.clip([mapping(area2.geometry.union_all())], proj, drop=True)\n",
    "\n",
    "print(\"Sumidouro:\", el_sumidouro.values.shape, el_sumidouro.values.size)\n",
    "print(\"Área 2:   \", el_area2.values.shape, el_area2.values.size)"
   ]
  },
  {
   "cell_type": "code",
   "execution_count": 65,
   "id": "91746d5f",
   "metadata": {},
   "outputs": [
    {
     "name": "stdout",
     "output_type": "stream",
     "text": [
      "Sumidouro: 791       1\n",
      "792       5\n",
      "793      21\n",
      "794     292\n",
      "795     304\n",
      "       ... \n",
      "1093    176\n",
      "1094    140\n",
      "1095    114\n",
      "1096     49\n",
      "1097     22\n",
      "Name: count, Length: 307, dtype: int64 Total: 2667090\n",
      "Área 2: 824      15\n",
      "825      53\n",
      "826      85\n",
      "827     251\n",
      "828     313\n",
      "       ... \n",
      "1346    196\n",
      "1347    221\n",
      "1348    214\n",
      "1349    136\n",
      "1350     59\n",
      "Name: count, Length: 527, dtype: int64 Total: 2423690\n"
     ]
    }
   ],
   "source": [
    "def counts_by_value(da, nodata=set()):\n",
    "    arr = da.data\n",
    "    arr = arr[np.isfinite(arr)].astype(int)\n",
    "    if nodata:\n",
    "        arr = arr[~np.isin(arr, list(nodata))]\n",
    "    return pd.Series(arr).value_counts().sort_index(), arr.size\n",
    "\n",
    "c_el_sumid, size_el_sumid = counts_by_value(el_sumidouro, {None})\n",
    "c_el_area2, size_el_area2 = counts_by_value(el_area2    , {None})\n",
    "\n",
    "print(\"Sumidouro:\", c_el_sumid, \"Total:\", size_el_sumid)\n",
    "print(\"Área 2:\",    c_el_area2, \"Total:\", size_el_area2)"
   ]
  },
  {
   "cell_type": "code",
   "execution_count": 70,
   "id": "4e1a5515",
   "metadata": {},
   "outputs": [
    {
     "data": {
      "text/html": [
       "<div>\n",
       "<style scoped>\n",
       "    .dataframe tbody tr th:only-of-type {\n",
       "        vertical-align: middle;\n",
       "    }\n",
       "\n",
       "    .dataframe tbody tr th {\n",
       "        vertical-align: top;\n",
       "    }\n",
       "\n",
       "    .dataframe thead th {\n",
       "        text-align: right;\n",
       "    }\n",
       "</style>\n",
       "<table border=\"1\" class=\"dataframe\">\n",
       "  <thead>\n",
       "    <tr style=\"text-align: right;\">\n",
       "      <th></th>\n",
       "      <th>Elevation</th>\n",
       "      <th>Sumidouro</th>\n",
       "      <th>Área 2</th>\n",
       "      <th>Sumidouro %</th>\n",
       "      <th>Área 2 %</th>\n",
       "    </tr>\n",
       "  </thead>\n",
       "  <tbody>\n",
       "    <tr>\n",
       "      <th>0</th>\n",
       "      <td>791</td>\n",
       "      <td>1</td>\n",
       "      <td>0</td>\n",
       "      <td>0.000037</td>\n",
       "      <td>0.000000</td>\n",
       "    </tr>\n",
       "    <tr>\n",
       "      <th>1</th>\n",
       "      <td>792</td>\n",
       "      <td>5</td>\n",
       "      <td>0</td>\n",
       "      <td>0.000187</td>\n",
       "      <td>0.000000</td>\n",
       "    </tr>\n",
       "    <tr>\n",
       "      <th>2</th>\n",
       "      <td>793</td>\n",
       "      <td>21</td>\n",
       "      <td>0</td>\n",
       "      <td>0.000787</td>\n",
       "      <td>0.000000</td>\n",
       "    </tr>\n",
       "    <tr>\n",
       "      <th>3</th>\n",
       "      <td>794</td>\n",
       "      <td>292</td>\n",
       "      <td>0</td>\n",
       "      <td>0.010948</td>\n",
       "      <td>0.000000</td>\n",
       "    </tr>\n",
       "    <tr>\n",
       "      <th>4</th>\n",
       "      <td>795</td>\n",
       "      <td>304</td>\n",
       "      <td>0</td>\n",
       "      <td>0.011398</td>\n",
       "      <td>0.000000</td>\n",
       "    </tr>\n",
       "    <tr>\n",
       "      <th>...</th>\n",
       "      <td>...</td>\n",
       "      <td>...</td>\n",
       "      <td>...</td>\n",
       "      <td>...</td>\n",
       "      <td>...</td>\n",
       "    </tr>\n",
       "    <tr>\n",
       "      <th>555</th>\n",
       "      <td>1346</td>\n",
       "      <td>0</td>\n",
       "      <td>196</td>\n",
       "      <td>0.000000</td>\n",
       "      <td>0.008087</td>\n",
       "    </tr>\n",
       "    <tr>\n",
       "      <th>556</th>\n",
       "      <td>1347</td>\n",
       "      <td>0</td>\n",
       "      <td>221</td>\n",
       "      <td>0.000000</td>\n",
       "      <td>0.009118</td>\n",
       "    </tr>\n",
       "    <tr>\n",
       "      <th>557</th>\n",
       "      <td>1348</td>\n",
       "      <td>0</td>\n",
       "      <td>214</td>\n",
       "      <td>0.000000</td>\n",
       "      <td>0.008830</td>\n",
       "    </tr>\n",
       "    <tr>\n",
       "      <th>558</th>\n",
       "      <td>1349</td>\n",
       "      <td>0</td>\n",
       "      <td>136</td>\n",
       "      <td>0.000000</td>\n",
       "      <td>0.005611</td>\n",
       "    </tr>\n",
       "    <tr>\n",
       "      <th>559</th>\n",
       "      <td>1350</td>\n",
       "      <td>0</td>\n",
       "      <td>59</td>\n",
       "      <td>0.000000</td>\n",
       "      <td>0.002434</td>\n",
       "    </tr>\n",
       "  </tbody>\n",
       "</table>\n",
       "<p>560 rows × 5 columns</p>\n",
       "</div>"
      ],
      "text/plain": [
       "     Elevation  Sumidouro  Área 2  Sumidouro %  Área 2 %\n",
       "0          791          1       0     0.000037  0.000000\n",
       "1          792          5       0     0.000187  0.000000\n",
       "2          793         21       0     0.000787  0.000000\n",
       "3          794        292       0     0.010948  0.000000\n",
       "4          795        304       0     0.011398  0.000000\n",
       "..         ...        ...     ...          ...       ...\n",
       "555       1346          0     196     0.000000  0.008087\n",
       "556       1347          0     221     0.000000  0.009118\n",
       "557       1348          0     214     0.000000  0.008830\n",
       "558       1349          0     136     0.000000  0.005611\n",
       "559       1350          0      59     0.000000  0.002434\n",
       "\n",
       "[560 rows x 5 columns]"
      ]
     },
     "execution_count": 70,
     "metadata": {},
     "output_type": "execute_result"
    }
   ],
   "source": [
    "# --- junta e plota (x = valor do pixel) ---\n",
    "df = pd.DataFrame({\"Sumidouro\": c_el_sumid, \"Área 2\": c_el_area2}).fillna(0).astype(int).reset_index()\n",
    "df = df.rename(columns={\"index\":\"Elevation\"})\n",
    "\n",
    "df[\"Sumidouro %\"] = (df[\"Sumidouro\"]/size_el_sumid)*100\n",
    "df[\"Área 2 %\"]    = (df[\"Área 2\"]/size_el_area2)*100\n",
    "\n",
    "df"
   ]
  },
  {
   "cell_type": "code",
   "execution_count": 88,
   "id": "9eb3261c",
   "metadata": {},
   "outputs": [
    {
     "data": {
      "image/png": "[encoded data removed]",
      "text/plain": [
       "<Figure size 1600x500 with 1 Axes>"
      ]
     },
     "metadata": {},
     "output_type": "display_data"
    }
   ],
   "source": [
    "x = np.arange(len(df))\n",
    "width = 0.45\n",
    "\n",
    "plt.figure(figsize=(16, 5))\n",
    "plt.bar(x - width/2, df['Sumidouro %'], width, label='Sumidouro %')\n",
    "plt.bar(x + width/2, df[\"Área 2 %\"], width, label=\"Área 2 %\")\n",
    "\n",
    "step = 10\n",
    "plt.xticks(\n",
    "    ticks=x[::step],\n",
    "    labels=df[\"Elevation\"].iloc[::step],# os valores correspondentes\n",
    "    rotation=45\n",
    ")\n",
    "\n",
    "plt.ylabel(\"% de Elevação\")\n",
    "plt.xlabel(\"Elevação\")\n",
    "plt.title(\"Elevação (Sumidouro e Área 2)\")\n",
    "plt.legend()\n",
    "plt.tight_layout()\n",
    "plt.show()"
   ]
  }
 ],
 "metadata": {
  "kernelspec": {
   "display_name": "libs",
   "language": "python",
   "name": "python3"
  },
  "language_info": {
   "codemirror_mode": {
    "name": "ipython",
    "version": 3
   },
   "file_extension": ".py",
   "mimetype": "text/x-python",
   "name": "python",
   "nbconvert_exporter": "python",
   "pygments_lexer": "ipython3",
   "version": "3.12.8"
  }
 },
 "nbformat": 4,
 "nbformat_minor": 5
}
