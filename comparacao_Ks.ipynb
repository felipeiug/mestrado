{
 "cells": [
  {
   "cell_type": "markdown",
   "id": "db02b2ed",
   "metadata": {},
   "source": [
    "# Comparação dos valores medidos e simulados de Ks"
   ]
  },
  {
   "cell_type": "code",
   "execution_count": 232,
   "id": "b001520a",
   "metadata": {},
   "outputs": [],
   "source": [
    "import random\n",
    "import numpy as np\n",
    "import pandas as pd\n",
    "import matplotlib.pyplot as plt\n",
    "\n",
    "from utils import Infiltrometro, ALL_FUNCTIONS, nse\n",
    "\n",
    "from xgboost import XGBRegressor\n",
    "from scipy.optimize import curve_fit\n",
    "from sklearn.linear_model import LinearRegression\n",
    "from sklearn.ensemble import RandomForestRegressor\n",
    "from sklearn.metrics import root_mean_squared_error\n",
    "from sklearn.preprocessing import QuantileTransformer"
   ]
  },
  {
   "cell_type": "code",
   "execution_count": null,
   "id": "5cb156b5",
   "metadata": {},
   "outputs": [],
   "source": [
    "run_ml = False\n",
    "run_math = False\n",
    "\n",
    "all_functions = {\n",
    "    # \"WMssc\": ALL_FUNCTIONS[\"WMssc\"],\n",
    "    # \"COSBY\": ALL_FUNCTIONS[\"COSBY\"],\n",
    "    # \"ROssc\": ALL_FUNCTIONS[\"ROssc\"],\n",
    "    # \"JULIA\": ALL_FUNCTIONS[\"JULIA\"],\n",
    "    # \"Puckett\": ALL_FUNCTIONS[\"Puckett\"],\n",
    "    # \"DanePuckett\": ALL_FUNCTIONS[\"DanePuckett\"],\n",
    "    # \"Saxton\":ALL_FUNCTIONS[\"Saxton\"],\n",
    "}"
   ]
  },
  {
   "cell_type": "code",
   "execution_count": 234,
   "id": "175b1fd6",
   "metadata": {},
   "outputs": [
    {
     "name": "stdout",
     "output_type": "stream",
     "text": [
      "[ True  True  True  True  True  True  True  True  True False False False\n",
      " False False False False False False False False False]\n"
     ]
    },
    {
     "name": "stderr",
     "output_type": "stream",
     "text": [
      "d:\\Mestrado\\Trabalho Final\\Codigos\\utils\\infiltracao\\infiltrometro.py:156: OptimizeWarning: Covariance of the parameters could not be estimated\n",
      "  (c1, c2), covariance = curve_fit(self._equation_infiltration, t, I)\n"
     ]
    }
   ],
   "source": [
    "infil = pd.read_excel(r\"D:\\Mestrado\\Trabalho Final\\Dados\\Levantamento em Campo\\Compiled.xlsx\", sheet_name=\"Infiltracao\")\n",
    "infil = Infiltrometro(infil)"
   ]
  },
  {
   "cell_type": "code",
   "execution_count": 235,
   "id": "166f916b",
   "metadata": {},
   "outputs": [
    {
     "name": "stdout",
     "output_type": "stream",
     "text": [
      "Cálculos utilizando C1\n"
     ]
    }
   ],
   "source": [
    "# K  = infil.K()  # Este valor de K é o K para -2cm de poropressão.\n",
    "df_Ks = infil.Ks() # Ks é a condutividade Hidráulica Saturada."
   ]
  },
  {
   "cell_type": "code",
   "execution_count": 236,
   "id": "fee51905",
   "metadata": {},
   "outputs": [],
   "source": [
    "alfa = df_Ks[\"alfa\"].values\n",
    "n = df_Ks[\"n\"].values\n",
    "K = df_Ks[\"K\"].values\n",
    "Ks:np.ndarray = df_Ks[\"Ks\"].values"
   ]
  },
  {
   "cell_type": "code",
   "execution_count": 237,
   "id": "960c0eaa",
   "metadata": {},
   "outputs": [],
   "source": [
    "def quantile_mapping(sim, obs):\n",
    "    \"\"\"Aplica Quantile Mapping (QM) de simulado -> observado\"\"\"\n",
    "    # Ajusta distribuições separadas\n",
    "    qm_sim = QuantileTransformer(output_distribution=\"uniform\", n_quantiles=min(100, sim.size))\n",
    "    qm_obs = QuantileTransformer(output_distribution=\"uniform\", n_quantiles=min(100, obs.size))\n",
    "    \n",
    "    # Treina cada um na sua série\n",
    "    qm_sim.fit(sim.reshape(-1, 1))\n",
    "    qm_obs.fit(obs.reshape(-1, 1))\n",
    "    \n",
    "    # Leva simulado para espaço uniforme\n",
    "    u = qm_sim.transform(sim.reshape(-1, 1))\n",
    "    \n",
    "    # Reprojeta no espaço do observado\n",
    "    sim_corr = qm_obs.inverse_transform(u)\n",
    "    return sim_corr.flatten()"
   ]
  },
  {
   "cell_type": "code",
   "execution_count": 238,
   "id": "5a7be0c3",
   "metadata": {},
   "outputs": [
    {
     "name": "stdout",
     "output_type": "stream",
     "text": [
      "A função proposta por Saxton não funciona corretamente\n"
     ]
    },
    {
     "data": {
      "text/plain": [
       "dict_keys(['Saxton_CV_3', 'Saxton_CV_5', 'Saxton_CV_15', 'Saxton_CV_50', 'Saxton'])"
      ]
     },
     "execution_count": 238,
     "metadata": {},
     "output_type": "execute_result"
    }
   ],
   "source": [
    "KSS:dict[str, np.ndarray] = {}\n",
    "\n",
    "pontos_CV = [\"P69-A\", \"P13\", \"P140\", \"P44\", \"P115\", \"P112\", \"P87\", \"P17\", \"P21\",\n",
    "             \"P22\", \"P26\", \"P29\", \"P30\", \"P37\", \"P47\", \"P49\", \"P50\", \"P51\", \"P55\",\n",
    "             \"P57\", \"P58\", \"P59\", \"P60\", \"P63\", \"P71\", \"P72\", \"P74\", \"P76\",\n",
    "             \"P79\", \"P80\", \"P81\", \"P84\", \"P88\", \"P89\", \"P90-A\", \"P90-B\", \"P96\",\n",
    "             \"P97\", \"P101\", \"P102\", \"P103\", \"P104\", \"P105\", \"P135\", \"P136\", \"P142\",\n",
    "             \"P143\", \"P148\", \"P151\", \"P152\"]\n",
    "\n",
    "sand = infil.infiltrations[\"Sand\"].values\n",
    "silt = infil.infiltrations[\"Silt\"].values\n",
    "clay = infil.infiltrations[\"Clay\"].values\n",
    "\n",
    "mask_3  = df_Ks[\"Ponto\"].isin(pontos_CV[0:3])\n",
    "mask_5  = df_Ks[\"Ponto\"].isin(pontos_CV[0:5])\n",
    "mask_15 = df_Ks[\"Ponto\"].isin(pontos_CV[0:15])\n",
    "mask_50 = df_Ks[\"Ponto\"].isin(pontos_CV[0:50])\n",
    "\n",
    "for key, value in all_functions.items():\n",
    "    kss:np.ndarray = np.log10(value(sand, silt, clay))\n",
    "\n",
    "    # Usando 3 pontos de calibração\n",
    "    obs = np.log10(df_Ks[mask_3][\"Ks\"].values)\n",
    "    KSS[key + \"_CV_3\"] = quantile_mapping(kss, obs)\n",
    "\n",
    "    # Usando 5 pontos\n",
    "    obs = np.log10(df_Ks[mask_5][\"Ks\"].values)\n",
    "    KSS[key + \"_CV_5\"] = quantile_mapping(kss, obs)\n",
    "\n",
    "    # Usando 15 pontos\n",
    "    obs = np.log10(df_Ks[mask_15][\"Ks\"].values)\n",
    "    KSS[key + \"_CV_15\"] = quantile_mapping(kss, obs)\n",
    "\n",
    "    # Usando 50 pontos\n",
    "    obs = np.log10(df_Ks[mask_50][\"Ks\"].values)\n",
    "    KSS[key + \"_CV_50\"] = quantile_mapping(kss, obs)\n",
    "\n",
    "    KSS[key] = kss\n",
    "\n",
    "KSS.keys()"
   ]
  },
  {
   "cell_type": "markdown",
   "id": "2e870316",
   "metadata": {},
   "source": [
    "### Gerando funções com os próprios dados que possuo"
   ]
  },
  {
   "cell_type": "code",
   "execution_count": 239,
   "id": "e6581b44",
   "metadata": {},
   "outputs": [
    {
     "name": "stdout",
     "output_type": "stream",
     "text": [
      "X Treino:  [[31. 50. 19.]\n",
      " [44. 29. 27.]\n",
      " [14. 52. 34.]\n",
      " [31. 25. 44.]\n",
      " [11. 45. 44.]\n",
      " [33. 31. 36.]\n",
      " [68.  4. 28.]\n",
      " [57. 21. 22.]\n",
      " [57. 21. 22.]\n",
      " [25. 40. 35.]\n",
      " [48.  6. 46.]\n",
      " [61. 17. 22.]\n",
      " [49. 23. 28.]\n",
      " [63. 18. 19.]\n",
      " [62. 27. 11.]\n",
      " [75. 13. 12.]\n",
      " [40. 24. 36.]\n",
      " [47. 28. 25.]\n",
      " [50. 33. 17.]\n",
      " [56. 22. 22.]\n",
      " [32. 38. 30.]\n",
      " [58. 26. 16.]\n",
      " [38. 28. 34.]\n",
      " [53.  4. 43.]\n",
      " [33. 58.  9.]\n",
      " [23. 69.  8.]\n",
      " [29. 34. 37.]\n",
      " [63. 16. 21.]\n",
      " [63. 22. 15.]\n",
      " [43. 18. 39.]\n",
      " [52. 27. 21.]\n",
      " [31. 26. 43.]\n",
      " [53. 13. 34.]\n",
      " [66. 17. 17.]\n",
      " [46. 15. 39.]\n",
      " [15. 51. 34.]\n",
      " [33. 45. 22.]\n",
      " [44. 31. 25.]\n",
      " [44. 23. 33.]\n",
      " [60. 15. 25.]\n",
      " [27. 35. 38.]\n",
      " [40. 24. 36.]\n",
      " [54.  7. 39.]\n",
      " [33. 46. 21.]\n",
      " [27. 49. 24.]\n",
      " [28. 26. 46.]\n",
      " [49. 10. 41.]\n",
      " [61. 25. 14.]\n",
      " [41. 24. 35.]\n",
      " [28. 30. 42.]\n",
      " [49. 25. 26.]\n",
      " [ 7. 20. 73.]\n",
      " [39. 24. 37.]\n",
      " [30. 42. 28.]]\n",
      "X Teste:  [[50.  9. 41.]\n",
      " [68. 19. 13.]\n",
      " [48.  6. 46.]\n",
      " [71. 17. 12.]\n",
      " [55. 32. 13.]\n",
      " [89.  2.  9.]\n",
      " [34. 39. 27.]\n",
      " [42. 43. 15.]\n",
      " [50. 25. 25.]\n",
      " [47. 10. 43.]\n",
      " [58. 26. 16.]\n",
      " [74.  1. 25.]\n",
      " [55. 20. 25.]\n",
      " [31. 31. 38.]\n",
      " [59. 18. 23.]\n",
      " [49. 28. 23.]\n",
      " [28. 37. 35.]\n",
      " [38. 33. 29.]\n",
      " [23. 34. 43.]\n",
      " [53. 28. 19.]\n",
      " [30. 31. 39.]\n",
      " [ 8. 36. 56.]\n",
      " [15. 41. 44.]\n",
      " [11. 30. 59.]\n",
      " [53. 39.  8.]\n",
      " [35. 33. 32.]\n",
      " [27. 40. 33.]\n",
      " [44. 38. 18.]\n",
      " [14. 23. 63.]\n",
      " [41. 32. 27.]]\n",
      "y Treino:  [-1.30615029 -1.14468365 -2.55841129 -2.82298596 -2.2350189  -1.81077972\n",
      " -0.95416924 -1.66809009 -2.16998306 -1.942176   -2.48566236 -0.84467989\n",
      " -1.48716493 -0.80486295 -0.07100298 -0.82841021 -1.66209199 -1.72731092\n",
      " -0.53952798 -2.04021386 -2.03855274 -1.17040224 -1.82167633 -2.02632217\n",
      " -0.95625013 -0.74921466 -2.26964915 -1.69421941 -1.1940097  -1.86906673\n",
      " -1.72429263 -1.74857482 -1.89898735 -0.85745113 -1.6545845  -2.39157025\n",
      " -0.0434142  -1.39673202 -2.22088647 -1.39196159 -1.89606044 -1.8610767\n",
      " -1.79208057 -1.33104406 -1.79922158 -2.33747136 -2.17013597 -0.7248743\n",
      " -2.03904585 -2.57963999 -1.13717743 -2.18408246 -2.10584681 -2.05595172]\n",
      "y Teste:  [-1.46596208 -0.55525226 -1.85642553 -0.4266023  -0.71974423  0.18430805\n",
      " -1.26278567 -1.2787104  -1.96106971 -1.50315996 -0.53195954 -0.96221006\n",
      " -1.30593823 -1.45377108 -0.93120005 -2.72241184 -1.62260776 -1.30137371\n",
      " -2.52924849 -0.74925746 -1.72207546 -1.65628864 -2.44129729 -2.56568787\n",
      "  0.00849216 -2.30483345 -0.32928067 -1.22033    -1.70123655 -0.76206129]\n"
     ]
    }
   ],
   "source": [
    "# Seed para permitir reprodutibilidade dos valores pseudo-aleatórios\n",
    "seed = 42\n",
    "\n",
    "# Definir uma seed para reprodutibilidade\n",
    "rng = np.random.default_rng(seed)\n",
    "\n",
    "# Porcentagens de Treino e Teste\n",
    "train_percent = 65\n",
    "test_percent  = 35\n",
    "\n",
    "# Indices de treino e teste\n",
    "n_train = int(len(Ks)*train_percent/100)\n",
    "n_teste = len(Ks) - n_train\n",
    "\n",
    "idxs = np.arange(len(Ks))\n",
    "idx_train = rng.choice(idxs, size=n_train, replace=False)\n",
    "idx_test = np.setdiff1d(idxs, idx_train)\n",
    "\n",
    "X = np.stack([sand, silt, clay], axis=1) # type: ignore\n",
    "y = np.log10(Ks.astype(np.float64))\n",
    "\n",
    "X_train = X[idx_train]\n",
    "X_teste = X[idx_test]\n",
    "\n",
    "y_train = y[idx_train]\n",
    "y_teste = y[idx_test]\n",
    "\n",
    "print(\"X Treino: \", X_train)\n",
    "print(\"X Teste: \", X_teste)\n",
    "print(\"y Treino: \", y_train)\n",
    "print(\"y Teste: \", y_teste)"
   ]
  },
  {
   "cell_type": "markdown",
   "id": "5c0c393b",
   "metadata": {},
   "source": [
    "### ML Models\n",
    "---"
   ]
  },
  {
   "cell_type": "code",
   "execution_count": 240,
   "id": "f793240e",
   "metadata": {},
   "outputs": [],
   "source": [
    "if run_ml:\n",
    "    rf = RandomForestRegressor()\n",
    "    rf.fit(X_train, y_train)\n",
    "    train_rf = rf.predict(X_train)\n",
    "    pred_rf = rf.predict(X_teste)\n",
    "    serie_rf = rf.predict(X)\n",
    "\n",
    "    KSS[\"Rf\"] = serie_rf"
   ]
  },
  {
   "cell_type": "code",
   "execution_count": 241,
   "id": "024b67aa",
   "metadata": {},
   "outputs": [],
   "source": [
    "if run_ml:\n",
    "    # XGBoost\n",
    "    xgb = XGBRegressor()\n",
    "    xgb.fit(X_train, y_train)\n",
    "    train_xgb = xgb.predict(X_train)\n",
    "    pred_xgb = xgb.predict(X_teste)\n",
    "    serie_xgb = xgb.predict(X)\n",
    "\n",
    "    KSS[\"XGB\"] = serie_xgb"
   ]
  },
  {
   "cell_type": "code",
   "execution_count": 242,
   "id": "9b04bad9",
   "metadata": {},
   "outputs": [],
   "source": [
    "if run_math:\n",
    "    # Linear\n",
    "    lin = LinearRegression()\n",
    "    lin.fit(X_train, y_train)\n",
    "    train_lin = lin.predict(X_train)\n",
    "    pred_lin = lin.predict(X_teste)\n",
    "    serie_lin = lin.predict(X)\n",
    "\n",
    "    a, b, c = lin.coef_\n",
    "    d = lin.intercept_\n",
    "\n",
    "    print(f\"Ajustado: log10(K) = {a:.4f}*Sand + {b:.4f}*Silt + {c:.4f}*Clay + {d:.4f}\")\n",
    "\n",
    "    KSS[\"Lin\"] = serie_lin"
   ]
  },
  {
   "cell_type": "code",
   "execution_count": 243,
   "id": "40e0cb75",
   "metadata": {},
   "outputs": [],
   "source": [
    "if run_math:# Exponencial\n",
    "    def exponencial(X, a, b, c, d):\n",
    "        sand, silt, clay = X[:, 0], X[:, 1], X[:, 2]\n",
    "        return np.exp(a * sand + b * silt + c * clay + d)\n",
    "\n",
    "    popt, pcov = curve_fit(exponencial, X_train, np.pow(10, y_train))\n",
    "\n",
    "    a, b, c, d = popt\n",
    "    print(f\"Ajustado: Ks = exp({a:.4f}*Sand + {b:.4f}*Silt + {c:.4f}*Clay + {d:.4f})\")\n",
    "\n",
    "    serie_exp = exponencial(X, *popt)\n",
    "    KSS[\"Exp\"] = np.log10(serie_exp)"
   ]
  },
  {
   "cell_type": "code",
   "execution_count": 244,
   "id": "7405f390",
   "metadata": {},
   "outputs": [],
   "source": [
    "if run_math:\n",
    "    # Potencial\n",
    "    def potencial(X, a, b, c, d, e):\n",
    "        sand, silt, clay = X[:, 0], X[:, 1], X[:, 2]\n",
    "\n",
    "        t1 = a * sand + b * silt + c * clay + d\n",
    "        return np.pow(e, t1)\n",
    "\n",
    "    popt, pcov = curve_fit(potencial, X_train, np.pow(10, y_train))\n",
    "\n",
    "    a, b, c, d, e = popt\n",
    "    print(f\"Ajustado: Ks = {e}^({a:.4f}*Sand + {b:.4f}*Silt + {c:.4f}*Clay + {d:.4f})\")\n",
    "\n",
    "    serie_pot = potencial(X, *popt)\n",
    "    KSS[\"Pot\"] = np.log10(serie_pot)"
   ]
  },
  {
   "cell_type": "code",
   "execution_count": 245,
   "id": "5026a9ca",
   "metadata": {},
   "outputs": [],
   "source": [
    "if run_math:\n",
    "    # Multi\n",
    "    def multi(X, a, b, c, d):\n",
    "        sand, silt, clay = X[:, 0], X[:, 1], X[:, 2]\n",
    "        \n",
    "        t1=a * sand + b * silt + c * clay\n",
    "\n",
    "        return  d*t1\n",
    "\n",
    "    popt, pcov = curve_fit(multi, X_train, np.pow(10, y_train))\n",
    "\n",
    "    a, b, c, d = popt\n",
    "    print(f\"Ajustado: Ks = {d:.4f}*({a:.4f}*Sand + {b:.4f}*Silt + {c:.4f}*Clay)\")\n",
    "\n",
    "    serie_multi = multi(X, *popt)\n",
    "    KSS[\"Multi\"] = np.log10(serie_multi)"
   ]
  },
  {
   "cell_type": "code",
   "execution_count": 246,
   "id": "a286b517",
   "metadata": {},
   "outputs": [],
   "source": [
    "if run_math:\n",
    "    # Eq1\n",
    "    def eq1(X, a, b, c, d, e, f):\n",
    "        sand, silt, clay = X[:, 0], X[:, 1], X[:, 2]\n",
    "        \n",
    "        t1=a * sand + b * silt + c * clay + d\n",
    "\n",
    "        return  e*np.pow(t1, f)\n",
    "\n",
    "    popt, pcov = curve_fit(eq1, X_train, np.pow(10, y_train))\n",
    "\n",
    "    a, b, c, d, e, f = popt\n",
    "    print(f\"Ajustado: Ks = {e:.4f}*({a:.4f}*Sand + {b:.4f}*Silt + {c:.4f}*Clay + {d:.4f})^{f:.4f}\")\n",
    "\n",
    "    serie_eq1 = eq1(X, *popt)\n",
    "    KSS[\"EQ1\"] = np.log10(serie_eq1)"
   ]
  },
  {
   "cell_type": "markdown",
   "id": "fae85fe5",
   "metadata": {},
   "source": [
    "### Avaliação dos modelos\n",
    "---"
   ]
  },
  {
   "cell_type": "code",
   "execution_count": 247,
   "id": "f5cb5b32",
   "metadata": {},
   "outputs": [
    {
     "name": "stdout",
     "output_type": "stream",
     "text": [
      "Valores de Teste\n",
      "RMSE - Saxton_CV_3: 0.7844310545041262\n",
      "RMSE - Saxton_CV_5: 0.66318122358798\n",
      "RMSE - Saxton_CV_15: 0.7266630307723584\n",
      "RMSE - Saxton_CV_50: 0.6466728048712117\n",
      "RMSE - Saxton: 8.782732621640669\n",
      "\n",
      "NSE - Saxton_CV_3: -0.025229748354434367\n",
      "NSE - Saxton_CV_5: 0.2672158183134301\n",
      "NSE - Saxton_CV_15: 0.12021252643198899\n",
      "NSE - Saxton_CV_50: 0.3032438070471759\n",
      "NSE - Saxton: -127.5200735248059\n",
      "----------------------------------------------------\n",
      "Valores de treino\n",
      "RMSE - Saxton_CV_3: 0.779167386576607\n",
      "RMSE - Saxton_CV_5: 0.594928613417844\n",
      "RMSE - Saxton_CV_15: 0.6874982564795468\n",
      "RMSE - Saxton_CV_50: 0.548222013438625\n",
      "RMSE - Saxton: 8.591627590158513\n",
      "\n",
      "NSE - Saxton_CV_3: -0.5140510183193376\n",
      "NSE - Saxton_CV_5: 0.11730901407207461\n",
      "NSE - Saxton_CV_15: -0.1787512863855758\n",
      "NSE - Saxton_CV_50: 0.25046499863213356\n",
      "NSE - Saxton: -183.08985914236197\n",
      "----------------------------------------------------\n",
      "Toda a Série\n",
      "RMSE - Saxton_CV_3: 0.7810513401405027\n",
      "RMSE - Saxton_CV_5: 0.6201674412244164\n",
      "RMSE - Saxton_CV_15: 0.7017366455250297\n",
      "RMSE - Saxton_CV_50: 0.5852871680373355\n",
      "RMSE - Saxton: 8.660363500074482\n",
      "\n",
      "NSE - Saxton_CV_3: -0.29211733960568886\n",
      "NSE - Saxton_CV_5: 0.1853694086859985\n",
      "NSE - Saxton_CV_15: -0.04301631972664821\n",
      "NSE - Saxton_CV_50: 0.2744275301940565\n",
      "NSE - Saxton: -157.8601735594934\n"
     ]
    }
   ],
   "source": [
    "# Avaliação\n",
    "print(\"Valores de Teste\")\n",
    "for key, value in KSS.items():\n",
    "    value[np.isnan(value)] = 0\n",
    "    print(f\"RMSE - {key}:\", root_mean_squared_error(y_teste, value[idx_test]))\n",
    "print()\n",
    "for key, value in KSS.items():\n",
    "    value[np.isnan(value)] = 0\n",
    "    print(f\"NSE - {key}:\", nse(value[idx_test], y_teste, y.mean()))\n",
    "\n",
    "print(\"----------------------------------------------------\")\n",
    "\n",
    "print(\"Valores de treino\")\n",
    "for key, value in KSS.items():\n",
    "    value[np.isnan(value)] = 0\n",
    "    print(f\"RMSE - {key}:\", root_mean_squared_error(y_train, value[idx_train]))\n",
    "print()\n",
    "for key, value in KSS.items():\n",
    "    value[np.isnan(value)] = 0\n",
    "    print(f\"NSE - {key}:\", nse(value[idx_train], y_train, y.mean()))\n",
    "\n",
    "print(\"----------------------------------------------------\")\n",
    "\n",
    "print(\"Toda a Série\")\n",
    "for key, value in KSS.items():\n",
    "    value[np.isnan(value)] = 0\n",
    "    print(f\"RMSE - {key}:\", root_mean_squared_error(y, value[idxs]))\n",
    "print()\n",
    "for key, value in KSS.items():\n",
    "    value[np.isnan(value)] = 0\n",
    "    print(f\"NSE - {key}:\", nse(value[idxs], y, y.mean()))"
   ]
  },
  {
   "cell_type": "markdown",
   "id": "9f96f37d",
   "metadata": {},
   "source": [
    "### Plot das Previsões"
   ]
  },
  {
   "cell_type": "code",
   "execution_count": 248,
   "id": "192dcdb4",
   "metadata": {},
   "outputs": [
    {
     "data": {
      "image/png": "[encoded data removed]",
      "text/plain": [
       "<Figure size 800x800 with 1 Axes>"
      ]
     },
     "metadata": {},
     "output_type": "display_data"
    }
   ],
   "source": [
    "plt.figure(figsize=(8, 8))\n",
    "\n",
    "min_val = y.min()\n",
    "max_val = y.max()\n",
    "\n",
    "# Real vs Simulado\n",
    "for key, value in KSS.items():\n",
    "    plt.scatter(y, value, alpha=0.6, label=key)\n",
    "\n",
    "    min_val = min(min_val, value.min())\n",
    "    max_val = max(max_val, value.max())\n",
    "\n",
    "plt.plot([min_val, max_val], [min_val, max_val], 'k--')\n",
    "\n",
    "# Estética\n",
    "plt.xlabel(\"Valor Real\")\n",
    "plt.ylabel(\"Valor Previsto\")\n",
    "plt.title(\"Comparação: Valor Real vs Previsões [log10(Ks)]\")\n",
    "plt.legend()\n",
    "plt.grid(True)\n",
    "plt.tight_layout()\n",
    "plt.show()"
   ]
  }
 ],
 "metadata": {
  "kernelspec": {
   "display_name": "libs",
   "language": "python",
   "name": "python3"
  },
  "language_info": {
   "codemirror_mode": {
    "name": "ipython",
    "version": 3
   },
   "file_extension": ".py",
   "mimetype": "text/x-python",
   "name": "python",
   "nbconvert_exporter": "python",
   "pygments_lexer": "ipython3",
   "version": "3.12.8"
  }
 },
 "nbformat": 4,
 "nbformat_minor": 5
}
