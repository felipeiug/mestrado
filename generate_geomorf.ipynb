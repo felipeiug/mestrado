{
 "cells": [
  {
   "cell_type": "markdown",
   "id": "32208dfe",
   "metadata": {},
   "source": [
    "### Etapa de gerar os dados geomorfológicos\n",
    "##### Variáveis utilizadas e bibliografia\n",
    "\n",
    "- "
   ]
  },
  {
   "cell_type": "code",
   "execution_count": null,
   "id": "21eb6122",
   "metadata": {},
   "outputs": [],
   "source": [
    "%pip install rioxarray xarray numpy scipy rasterio"
   ]
  },
  {
   "cell_type": "code",
   "execution_count": 8,
   "id": "54e1d8ef",
   "metadata": {},
   "outputs": [],
   "source": [
    "# Libs utilizadas\n",
    "import rioxarray as rxr\n",
    "import xarray as xr\n",
    "import numpy as np\n",
    "from pyproj import CRS\n",
    "from rasterio.warp import transform\n",
    "from math import floor\n",
    "from scipy.ndimage import convolve"
   ]
  },
  {
   "cell_type": "code",
   "execution_count": 5,
   "id": "4aa0dbd0",
   "metadata": {},
   "outputs": [],
   "source": [
    "mde_path = r\"d:\\Mestrado\\Trabalho Final\\SIG\\MDT.tif\"\n",
    "uso_solo_path = r\"d:\\Mestrado\\Trabalho Final\\SIG\\USOSOLO.tif\"\n",
    "\n",
    "uso_solo = rxr.open_rasterio(uso_solo_path)\n",
    "mde = rxr.open_rasterio(mde_path)"
   ]
  },
  {
   "cell_type": "code",
   "execution_count": null,
   "id": "d4a29a63",
   "metadata": {},
   "outputs": [],
   "source": [
    "dem = mde.squeeze(drop=True)  # (y,x), float\n",
    "Z = dem.data.astype(float)\n",
    "nodata = np.isnan(Z)\n",
    "\n",
    "# resoluções (m) assumindo grid regular\n",
    "dx = float(abs(dem.x.diff(\"x\").mean()))\n",
    "dy = float(abs(dem.y.diff(\"y\").mean()))\n",
    "\n",
    "# preenche NaN temporariamente para não poluir convoluções\n",
    "Z_filled = Z.copy()\n",
    "if np.any(nodata):\n",
    "    Z_filled[nodata] = np.nanmean(Z_filled)\n"
   ]
  },
  {
   "cell_type": "code",
   "execution_count": null,
   "id": "632567a5",
   "metadata": {},
   "outputs": [],
   "source": [
    "# --- Kernels de Horn (1ª ordem e 2ª ordem) ---\n",
    "Kx  = np.array([[-1,0,1],[-2,0,2],[-1,0,1]]) / (8*dx)\n",
    "Ky  = np.array([[-1,-2,-1],[0,0,0],[1,2,1]]) / (8*dy)\n",
    "Kxx = np.array([[1,-2,1],[2,-4,2],[1,-2,1]]) / (3*dx*dx)\n",
    "Kyy = np.array([[1,2,1],[-2,-4,-2],[1,2,1]]) / (3*dy*dy)\n",
    "Kxy = np.array([[-1,0,1],[0,0,0],[1,0,-1]]) / (4*dx*dy)\n",
    "\n",
    "# derivadas\n",
    "p = convolve(Z_filled, Kx,  mode=\"nearest\")\n",
    "q = convolve(Z_filled, Ky,  mode=\"nearest\")\n",
    "r = convolve(Z_filled, Kxx, mode=\"nearest\")\n",
    "t = convolve(Z_filled, Kyy, mode=\"nearest\")\n",
    "s = convolve(Z_filled, Kxy, mode=\"nearest\")\n",
    "\n",
    "for arr in (p,q,r,s,t):\n",
    "    arr[nodata] = np.nan\n",
    "\n",
    "# --- Métricas ---\n",
    "eps = 1e-12\n",
    "grad = np.sqrt(p**2 + q**2)\n",
    "\n",
    "# declividade\n",
    "slope_rad = np.arctan(grad)\n",
    "slope_deg = np.degrees(slope_rad)\n",
    "\n",
    "# aspecto\n",
    "aspect = np.degrees(np.arctan2(q, -p))\n",
    "aspect = np.where(aspect < 0, 360 + aspect, aspect)\n",
    "\n",
    "# curvaturas\n",
    "den = (grad**3) + eps\n",
    "curv_profile = (r*(p**2) + 2*s*p*q + t*(q**2)) / den\n",
    "curv_plan    = (r*(q**2) - 2*s*p*q + t*(p**2)) / den\n",
    "curv_gauss   = (r*t - s**2) / ((1 + p**2 + q**2)**2 + eps)\n",
    "\n",
    "# TPI e TRI (janela 3x3)\n",
    "K8 = np.array([[1,1,1],[1,0,1],[1,1,1]], float)\n",
    "K8 /= K8.sum()\n",
    "neighbor_mean = convolve(Z_filled, K8, mode=\"nearest\")\n",
    "\n",
    "tpi = Z_filled - neighbor_mean\n",
    "tpi[nodata] = np.nan\n",
    "\n",
    "abs_diff = np.abs(Z_filled - neighbor_mean)\n",
    "tri = convolve(abs_diff, K8, mode=\"nearest\")\n",
    "tri[nodata] = np.nan\n"
   ]
  },
  {
   "cell_type": "code",
   "execution_count": null,
   "id": "62c77abb",
   "metadata": {},
   "outputs": [],
   "source": [
    "# lista de variáveis\n",
    "band_list = [\n",
    "    (\"elevation\",    Z.astype(np.float32)),\n",
    "    (\"slope_deg\",    slope_deg.astype(np.float32)),\n",
    "    (\"aspect_deg\",   aspect.astype(np.float32)),\n",
    "    (\"curv_profile\", curv_profile.astype(np.float32)),\n",
    "    (\"curv_plan\",    curv_plan.astype(np.float32)),\n",
    "    (\"curv_gauss\",   curv_gauss.astype(np.float32)),\n",
    "    (\"tpi\",          tpi.astype(np.float32)),\n",
    "    (\"tri\",          tri.astype(np.float32)),\n",
    "]\n",
    "\n",
    "# criar stack multibanda\n",
    "stack = xr.concat(\n",
    "    [xr.DataArray(arr, dims=(\"y\",\"x\"), name=name) for name,arr in band_list],\n",
    "    dim=\"band\"\n",
    ").assign_coords(band=np.arange(1, len(band_list)+1))\n",
    "\n",
    "# herdar CRS/transform do MDT original\n",
    "stack = stack.rio.write_crs(dem.rio.crs)\n",
    "stack = stack.rio.write_transform(dem.rio.transform())\n",
    "\n",
    "# nomes das bandas\n",
    "stack.attrs[\"band_names\"] = [name for name,_ in band_list]\n",
    "\n",
    "# salvar\n",
    "out_path = \"mdt_variaveis_morfologicas.tif\"\n",
    "stack.rio.to_raster(out_path, compress=\"deflate\", BIGTIFF=\"IF_SAFER\")\n",
    "\n",
    "print(\"Arquivo salvo:\", out_path)\n",
    "print(\"Bandas:\", stack.attrs[\"band_names\"])\n"
   ]
  }
 ],
 "metadata": {
  "kernelspec": {
   "display_name": "libs",
   "language": "python",
   "name": "python3"
  },
  "language_info": {
   "codemirror_mode": {
    "name": "ipython",
    "version": 3
   },
   "file_extension": ".py",
   "mimetype": "text/x-python",
   "name": "python",
   "nbconvert_exporter": "python",
   "pygments_lexer": "ipython3",
   "version": "3.12.8"
  }
 },
 "nbformat": 4,
 "nbformat_minor": 5
}
