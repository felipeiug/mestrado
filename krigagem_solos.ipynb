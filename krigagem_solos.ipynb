{
 "cells": [
  {
   "cell_type": "markdown",
   "id": "57cdcde1",
   "metadata": {},
   "source": [
    "# Código para aplicar a krigagem nos dados de tipos de solo"
   ]
  },
  {
   "cell_type": "code",
   "execution_count": 1,
   "id": "de023805",
   "metadata": {},
   "outputs": [],
   "source": [
    "import numpy as np\n",
    "import xarray as xr\n",
    "import pandas as pd\n",
    "import gstools as gs\n",
    "import geopandas as gpd\n",
    "import rioxarray as rxr\n",
    "\n",
    "from skgstat import Variogram\n",
    "from tqdm import tqdm, trange\n",
    "from pykrige.ok import OrdinaryKriging"
   ]
  },
  {
   "cell_type": "code",
   "execution_count": 2,
   "id": "98458cd5",
   "metadata": {},
   "outputs": [],
   "source": [
    "dados    = pd.read_excel(r\"D:\\Mestrado\\Trabalho Final\\Dados\\Levantamento em Campo\\Compiled.xlsx\", sheet_name=\"Analise Solo\")\n",
    "uso_solo = rxr.open_rasterio(r\"D:/Mestrado/Trabalho Final/SIG/USOSOLO.tif\")"
   ]
  },
  {
   "cell_type": "code",
   "execution_count": 3,
   "id": "4603c64f",
   "metadata": {},
   "outputs": [
    {
     "data": {
      "text/html": [
       "<div>\n",
       "<style scoped>\n",
       "    .dataframe tbody tr th:only-of-type {\n",
       "        vertical-align: middle;\n",
       "    }\n",
       "\n",
       "    .dataframe tbody tr th {\n",
       "        vertical-align: top;\n",
       "    }\n",
       "\n",
       "    .dataframe thead th {\n",
       "        text-align: right;\n",
       "    }\n",
       "</style>\n",
       "<table border=\"1\" class=\"dataframe\">\n",
       "  <thead>\n",
       "    <tr style=\"text-align: right;\">\n",
       "      <th></th>\n",
       "      <th>Ponto</th>\n",
       "      <th>PROF</th>\n",
       "      <th>Argila</th>\n",
       "      <th>Silte</th>\n",
       "      <th>Areia(Grossa)</th>\n",
       "      <th>Areia(Fina)</th>\n",
       "      <th>geometry</th>\n",
       "    </tr>\n",
       "  </thead>\n",
       "  <tbody>\n",
       "    <tr>\n",
       "      <th>0</th>\n",
       "      <td>02</td>\n",
       "      <td>0 - 2</td>\n",
       "      <td>27.0</td>\n",
       "      <td>3.0</td>\n",
       "      <td>58.0</td>\n",
       "      <td>12.0</td>\n",
       "      <td>POINT (592224.603 7787265.87)</td>\n",
       "    </tr>\n",
       "    <tr>\n",
       "      <th>1</th>\n",
       "      <td>02</td>\n",
       "      <td>0 - 20</td>\n",
       "      <td>41.0</td>\n",
       "      <td>9.0</td>\n",
       "      <td>37.0</td>\n",
       "      <td>13.0</td>\n",
       "      <td>POINT (592224.603 7787265.87)</td>\n",
       "    </tr>\n",
       "    <tr>\n",
       "      <th>2</th>\n",
       "      <td>02</td>\n",
       "      <td>60 - 80</td>\n",
       "      <td>42.0</td>\n",
       "      <td>5.0</td>\n",
       "      <td>37.0</td>\n",
       "      <td>16.0</td>\n",
       "      <td>POINT (592224.603 7787265.87)</td>\n",
       "    </tr>\n",
       "    <tr>\n",
       "      <th>3</th>\n",
       "      <td>04</td>\n",
       "      <td>0 - 2</td>\n",
       "      <td>11.0</td>\n",
       "      <td>12.0</td>\n",
       "      <td>49.0</td>\n",
       "      <td>28.0</td>\n",
       "      <td>POINT (592368.605 7790837.259)</td>\n",
       "    </tr>\n",
       "    <tr>\n",
       "      <th>4</th>\n",
       "      <td>04</td>\n",
       "      <td>0 - 20</td>\n",
       "      <td>13.0</td>\n",
       "      <td>19.0</td>\n",
       "      <td>53.0</td>\n",
       "      <td>15.0</td>\n",
       "      <td>POINT (592368.605 7790837.259)</td>\n",
       "    </tr>\n",
       "    <tr>\n",
       "      <th>...</th>\n",
       "      <td>...</td>\n",
       "      <td>...</td>\n",
       "      <td>...</td>\n",
       "      <td>...</td>\n",
       "      <td>...</td>\n",
       "      <td>...</td>\n",
       "      <td>...</td>\n",
       "    </tr>\n",
       "    <tr>\n",
       "      <th>196</th>\n",
       "      <td>161</td>\n",
       "      <td>1,4m</td>\n",
       "      <td>8.0</td>\n",
       "      <td>21.0</td>\n",
       "      <td>31.0</td>\n",
       "      <td>40.0</td>\n",
       "      <td>POINT (595970.168 7791192.033)</td>\n",
       "    </tr>\n",
       "    <tr>\n",
       "      <th>197</th>\n",
       "      <td>162</td>\n",
       "      <td>0 - 2</td>\n",
       "      <td>14.0</td>\n",
       "      <td>31.0</td>\n",
       "      <td>37.0</td>\n",
       "      <td>18.0</td>\n",
       "      <td>POINT (595908.053 7791452.29)</td>\n",
       "    </tr>\n",
       "    <tr>\n",
       "      <th>198</th>\n",
       "      <td>162</td>\n",
       "      <td>0 - 20</td>\n",
       "      <td>21.0</td>\n",
       "      <td>16.0</td>\n",
       "      <td>42.0</td>\n",
       "      <td>21.0</td>\n",
       "      <td>POINT (595908.053 7791452.29)</td>\n",
       "    </tr>\n",
       "    <tr>\n",
       "      <th>199</th>\n",
       "      <td>162</td>\n",
       "      <td>60 - 80</td>\n",
       "      <td>14.0</td>\n",
       "      <td>41.0</td>\n",
       "      <td>23.0</td>\n",
       "      <td>22.0</td>\n",
       "      <td>POINT (595908.053 7791452.29)</td>\n",
       "    </tr>\n",
       "    <tr>\n",
       "      <th>200</th>\n",
       "      <td>162</td>\n",
       "      <td>1,6m</td>\n",
       "      <td>11.0</td>\n",
       "      <td>40.0</td>\n",
       "      <td>29.0</td>\n",
       "      <td>20.0</td>\n",
       "      <td>POINT (595908.053 7791452.29)</td>\n",
       "    </tr>\n",
       "  </tbody>\n",
       "</table>\n",
       "<p>201 rows × 7 columns</p>\n",
       "</div>"
      ],
      "text/plain": [
       "    Ponto     PROF  Argila  Silte  Areia(Grossa)  Areia(Fina)  \\\n",
       "0      02    0 - 2    27.0    3.0           58.0         12.0   \n",
       "1      02   0 - 20    41.0    9.0           37.0         13.0   \n",
       "2      02  60 - 80    42.0    5.0           37.0         16.0   \n",
       "3      04    0 - 2    11.0   12.0           49.0         28.0   \n",
       "4      04   0 - 20    13.0   19.0           53.0         15.0   \n",
       "..    ...      ...     ...    ...            ...          ...   \n",
       "196   161     1,4m     8.0   21.0           31.0         40.0   \n",
       "197   162    0 - 2    14.0   31.0           37.0         18.0   \n",
       "198   162   0 - 20    21.0   16.0           42.0         21.0   \n",
       "199   162  60 - 80    14.0   41.0           23.0         22.0   \n",
       "200   162     1,6m    11.0   40.0           29.0         20.0   \n",
       "\n",
       "                           geometry  \n",
       "0     POINT (592224.603 7787265.87)  \n",
       "1     POINT (592224.603 7787265.87)  \n",
       "2     POINT (592224.603 7787265.87)  \n",
       "3    POINT (592368.605 7790837.259)  \n",
       "4    POINT (592368.605 7790837.259)  \n",
       "..                              ...  \n",
       "196  POINT (595970.168 7791192.033)  \n",
       "197   POINT (595908.053 7791452.29)  \n",
       "198   POINT (595908.053 7791452.29)  \n",
       "199   POINT (595908.053 7791452.29)  \n",
       "200   POINT (595908.053 7791452.29)  \n",
       "\n",
       "[201 rows x 7 columns]"
      ]
     },
     "execution_count": 3,
     "metadata": {},
     "output_type": "execute_result"
    }
   ],
   "source": [
    "dados.dropna(inplace=True, ignore_index=True)\n",
    "\n",
    "points = gpd.points_from_xy(dados[\"lat\"], dados[\"lon\"], crs=\"EPSG:4326\")\n",
    "dados = gpd.GeoDataFrame(dados[[\"Ponto\", \"PROF\", \"Argila\", \"Silte\", \"Areia(Grossa)\", \"Areia(Fina)\"]], geometry=points, crs=\"EPSG:4326\")\n",
    "dados.to_crs(\"EPSG:31983\", inplace=True)\n",
    "\n",
    "dados"
   ]
  },
  {
   "cell_type": "code",
   "execution_count": 4,
   "id": "90503338",
   "metadata": {},
   "outputs": [
    {
     "data": {
      "text/plain": [
       "array(['0 - 2', '0 - 20', '60 - 80', '40 - 60', '20 - 40', '0  - 20',\n",
       "       '0 - 10', '30 - 50', '50 - 70', '40 - 50', '0 - 15', '1,4m',\n",
       "       '1,6m'], dtype=object)"
      ]
     },
     "execution_count": 4,
     "metadata": {},
     "output_type": "execute_result"
    }
   ],
   "source": [
    "profs = dados[\"PROF\"].unique()\n",
    "profs"
   ]
  },
  {
   "cell_type": "code",
   "execution_count": 5,
   "id": "ec799ae7",
   "metadata": {},
   "outputs": [
    {
     "data": {
      "text/plain": [
       "(51, 80, 68)"
      ]
     },
     "execution_count": 5,
     "metadata": {},
     "output_type": "execute_result"
    }
   ],
   "source": [
    "prof_02 = dados[dados[\"PROF\"]==\"0 - 2\"]\n",
    "prof_20 = dados[(dados[\"PROF\"]==\"0 - 20\")|(dados[\"PROF\"]==\"0 - 10\")|(dados[\"PROF\"]==\"0  - 20\")|(dados[\"PROF\"]==\"0 - 15\")]\n",
    "prof_80 = dados[dados[\"PROF\"].isin([\"60 - 80\", \"40 - 60\", \"20 - 40\", \"30 - 50\", \"50 - 70\", \"40 - 50\"])]\n",
    "\n",
    "len(prof_02), len(prof_20), len(prof_80)"
   ]
  },
  {
   "cell_type": "markdown",
   "id": "e3fab6ae",
   "metadata": {},
   "source": [
    "### Aplicando a Krigagem"
   ]
  },
  {
   "cell_type": "code",
   "execution_count": 6,
   "id": "2ab9966c",
   "metadata": {},
   "outputs": [
    {
     "data": {
      "text/plain": [
       "((9099,), (9099,))"
      ]
     },
     "execution_count": 6,
     "metadata": {},
     "output_type": "execute_result"
    }
   ],
   "source": [
    "gridx = uso_solo.x.values\n",
    "gridy = uso_solo.y.values\n",
    "\n",
    "gridx.shape, gridy.shape"
   ]
  },
  {
   "cell_type": "code",
   "execution_count": null,
   "id": "0c6d3f8c",
   "metadata": {},
   "outputs": [
    {
     "name": "stdout",
     "output_type": "stream",
     "text": [
      "Gerando Argila em 2cm\n"
     ]
    }
   ],
   "source": [
    "uso_solo = rxr.open_rasterio(r\"D:/Mestrado/Trabalho Final/SIG/USOSOLO.tif\")\n",
    "gridx = uso_solo.x.values\n",
    "gridy = uso_solo.y.values\n",
    "\n",
    "# Para evitar estouro da memória\n",
    "step = 500\n",
    "\n",
    "tipos = [\"Argila\", \"Silte\", \"Areia(Grossa)\", \"Areia(Fina)\"]\n",
    "profundidades = [2, 20, 80]\n",
    "\n",
    "for prof in profundidades:\n",
    "    if prof == 2:\n",
    "        profs = prof_02\n",
    "    elif prof == 20:\n",
    "        profs = prof_20\n",
    "    else:\n",
    "        profs = prof_80\n",
    "    \n",
    "    x = profs.geometry.x\n",
    "    y = profs.geometry.y\n",
    "    coords = np.vstack([x, y]).T\n",
    "\n",
    "    for tipo in tipos:\n",
    "        z = profs[tipo].values\n",
    "\n",
    "        V = Variogram(\n",
    "            coords, z,\n",
    "            model='spherical',     # pode testar: 'exponential', 'gaussian'\n",
    "            maxlag='median',       # distância máxima considerada\n",
    "            n_lags=8               # número de \"bins\" do semivariograma\n",
    "        )\n",
    "\n",
    "        rang   = V.parameters[0]\n",
    "        sill   = V.parameters[1]\n",
    "        nugget = V.parameters[2]\n",
    "\n",
    "        model = gs.Spherical(dim=2, var=sill, len_scale=rang, nugget=nugget)\n",
    "        ok = gs.krige.Ordinary(model, cond_pos=[x, y], cond_val=z)\n",
    "\n",
    "        X, Y = np.meshgrid(gridx, gridy)\n",
    "        print(f\"Gerando {tipo} em {prof}cm\")\n",
    "        field, var = ok((X, Y), chunk_size=20000)   # field = valores preditos, var = variância\n",
    "\n",
    "        print(f\"Salvando {tipo} em {prof}cm\")\n",
    "\n",
    "        # Pega o template de coordenadas\n",
    "        coords = {\"y\": uso_solo.y, \"x\": uso_solo.x}\n",
    "\n",
    "        da_pred = xr.DataArray(\n",
    "            field,\n",
    "            coords=coords,\n",
    "            dims=(\"y\",\"x\"),\n",
    "            name=\"pred\"\n",
    "        )\n",
    "\n",
    "        da_var = xr.DataArray(\n",
    "            var,\n",
    "            coords=coords,\n",
    "            dims=(\"y\",\"x\"),\n",
    "            name=\"var\"\n",
    "        )\n",
    "        da_pred = da_pred.expand_dims(\"band\").assign_coords(band=[1])\n",
    "        da_var = da_var.expand_dims(\"band\").assign_coords(band=[2])\n",
    "        stack = xr.concat([da_pred, da_var], dim=\"band\")\n",
    "\n",
    "        stack = stack.rio.write_crs(uso_solo.rio.crs)\n",
    "        stack = stack.rio.write_transform(uso_solo.rio.transform())\n",
    "        stack.rio.to_raster(fr\"D:/Mestrado/Trabalho Final/SIG/{tipo}_{prof}.tif\", compress=\"LZW\")\n",
    "\n",
    "        break\n",
    "    break"
   ]
  }
 ],
 "metadata": {
  "kernelspec": {
   "display_name": "libs",
   "language": "python",
   "name": "python3"
  },
  "language_info": {
   "codemirror_mode": {
    "name": "ipython",
    "version": 3
   },
   "file_extension": ".py",
   "mimetype": "text/x-python",
   "name": "python",
   "nbconvert_exporter": "python",
   "pygments_lexer": "ipython3",
   "version": "3.12.8"
  }
 },
 "nbformat": 4,
 "nbformat_minor": 5
}
