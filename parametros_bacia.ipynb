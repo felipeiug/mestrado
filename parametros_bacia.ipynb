{
 "cells": [
  {
   "cell_type": "markdown",
   "id": "eacab1c1",
   "metadata": {},
   "source": [
    "### Etapa de gerar as principais informações da bacia hidrográfica"
   ]
  }
 ],
 "metadata": {
  "kernelspec": {
   "display_name": "libs",
   "language": "python",
   "name": "python3"
  },
  "language_info": {
   "name": "python",
   "version": "3.12.8"
  }
 },
 "nbformat": 4,
 "nbformat_minor": 5
}
