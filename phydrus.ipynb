{
 "cells": [
  {
   "cell_type": "markdown",
   "id": "8c7ca882",
   "metadata": {},
   "source": [
    "# Utilizando o Python para rodar o Hydrus"
   ]
  },
  {
   "cell_type": "code",
   "execution_count": 24,
   "id": "ea8d1466",
   "metadata": {},
   "outputs": [],
   "source": [
    "import os\n",
    "import phydrus as ps\n",
    "%matplotlib inline"
   ]
  },
  {
   "cell_type": "markdown",
   "id": "67944722",
   "metadata": {},
   "source": [
    "## 2. Create the basic model & add time information"
   ]
  },
  {
   "cell_type": "code",
   "execution_count": 25,
   "id": "5ce0ece4",
   "metadata": {},
   "outputs": [
    {
     "data": {
      "text/plain": [
       "array([0.08333333, 0.16666667, 0.25      , 0.33333333, 0.41666667,\n",
       "       0.5       , 0.58333333, 0.66666667, 0.75      , 0.83333333,\n",
       "       0.91666667, 1.        ])"
      ]
     },
     "execution_count": 25,
     "metadata": {},
     "output_type": "execute_result"
    }
   ],
   "source": [
    "# Folder for Hydrus files to be stored\n",
    "ws = \"example_1\" # Directory\n",
    "exe = r\"C:\\Program Files (x86)\\PC-Progress\\Hydrus-1D 4.xx\\HYDRUS1D.EXE\"\n",
    "\n",
    "# Description\n",
    "desc = \"Infiltration of Water into a Single-Layered Soil Profile\"\n",
    "\n",
    "# Create model\n",
    "ml = ps.Model(\n",
    "    exe_name=exe,\n",
    "    ws_name=ws,\n",
    "    name=\"model\",\n",
    "    description=desc,\n",
    "    mass_units=\"mmol\",\n",
    "    time_unit=\"days\",\n",
    "    length_unit=\"cm\",\n",
    "    print_screen=True,\n",
    ")\n",
    "\n",
    "ml.basic_info[\"lFlux\"] = True\n",
    "ml.basic_info[\"lShort\"] = False\n",
    "\n",
    "ml.add_time_info(tmax=1, print_times=True, nsteps=12, dt=0.001)"
   ]
  },
  {
   "cell_type": "markdown",
   "id": "a72a4fb4",
   "metadata": {},
   "source": [
    "## 3. Add processes and materials"
   ]
  },
  {
   "cell_type": "code",
   "execution_count": 26,
   "id": "80e56c4f",
   "metadata": {},
   "outputs": [],
   "source": [
    "ml.add_waterflow(top_bc=0, bot_bc=4)\n",
    "\n",
    "m = ml.get_empty_material_df(n=1)\n",
    "m.loc[[1]] = [[0.078, 0.43, 0.036, 1.56, 24.96, 0.5]]\n",
    "ml.add_material(m)"
   ]
  },
  {
   "cell_type": "markdown",
   "id": "d84060c9",
   "metadata": {},
   "source": [
    "## 4. Add profile information"
   ]
  },
  {
   "cell_type": "code",
   "execution_count": 27,
   "id": "77dab2a3",
   "metadata": {},
   "outputs": [],
   "source": [
    "elements = 100  # Disctretize soil column into n elements\n",
    "depth = -100  # Depth of the soil column\n",
    "ihead = -100  # Determine initial Pressure Head\n",
    "# Create Profile\n",
    "profile = ps.create_profile(bot=depth, dx=abs(depth / elements), h=ihead)\n",
    "profile.iloc[0, 1] = 1  # Define initial Pressure Head at the surface\n",
    "ml.add_profile(profile)  # Add the profile"
   ]
  },
  {
   "cell_type": "markdown",
   "id": "7c96cfd3",
   "metadata": {},
   "source": [
    "## 5 Add observation nodes"
   ]
  },
  {
   "cell_type": "code",
   "execution_count": 28,
   "id": "731f0d72",
   "metadata": {},
   "outputs": [],
   "source": [
    "# Add observation nodes at depth\n",
    "ml.add_obs_nodes([-20, -40, -60, -80, -100])"
   ]
  },
  {
   "cell_type": "markdown",
   "id": "f9fdc9c9",
   "metadata": {},
   "source": [
    "## 6. Write hydrus input files & run hydrus"
   ]
  },
  {
   "cell_type": "code",
   "execution_count": 33,
   "id": "69f55466",
   "metadata": {},
   "outputs": [
    {
     "name": "stderr",
     "output_type": "stream",
     "text": [
      "INFO: Successfully wrote example_1\\SELECTOR.IN\n"
     ]
    },
    {
     "name": "stderr",
     "output_type": "stream",
     "text": [
      "INFO: Successfully wrote example_1\\PROFILE.DAT\n",
      "INFO: Hydrus-1D Simulation Successful.\n"
     ]
    },
    {
     "name": "stdout",
     "output_type": "stream",
     "text": [
      "CompletedProcess(args=['C:\\\\Program Files (x86)\\\\PC-Progress\\\\Hydrus-1D 4.xx\\\\HYDRUS1D.EXE', 'example_1', '-1'], returncode=0)\n"
     ]
    }
   ],
   "source": [
    "ml.write_input()\n",
    "res = ml.simulate()\n",
    "print(res)"
   ]
  },
  {
   "cell_type": "markdown",
   "id": "bb00a43f",
   "metadata": {},
   "source": [
    "## 7 Plot results"
   ]
  },
  {
   "cell_type": "code",
   "execution_count": 7,
   "id": "50bc2991",
   "metadata": {},
   "outputs": [
    {
     "ename": "FileNotFoundError",
     "evalue": "File example_1\\OBS_NODE.OUT has not been found.",
     "output_type": "error",
     "traceback": [
      "\u001b[31m---------------------------------------------------------------------------\u001b[39m",
      "\u001b[31mFileNotFoundError\u001b[39m                         Traceback (most recent call last)",
      "\u001b[36mCell\u001b[39m\u001b[36m \u001b[39m\u001b[32mIn[7]\u001b[39m\u001b[32m, line 1\u001b[39m\n\u001b[32m----> \u001b[39m\u001b[32m1\u001b[39m \u001b[43mml\u001b[49m\u001b[43m.\u001b[49m\u001b[43mplots\u001b[49m\u001b[43m.\u001b[49m\u001b[43mobs_points\u001b[49m\u001b[43m(\u001b[49m\u001b[43m)\u001b[49m\n",
      "\u001b[36mFile \u001b[39m\u001b[32md:\\Mestrado\\Trabalho Final\\Codigos\\libs\\Lib\\site-packages\\phydrus\\plot.py:266\u001b[39m, in \u001b[36mPlots.obs_points\u001b[39m\u001b[34m(self, data, figsize, **kwargs)\u001b[39m\n\u001b[32m    250\u001b[39m \u001b[38;5;28;01mdef\u001b[39;00m\u001b[38;5;250m \u001b[39m\u001b[34mobs_points\u001b[39m(\u001b[38;5;28mself\u001b[39m, data=\u001b[33m\"\u001b[39m\u001b[33mh\u001b[39m\u001b[33m\"\u001b[39m, figsize=(\u001b[32m4\u001b[39m, \u001b[32m3\u001b[39m), **kwargs):\n\u001b[32m    251\u001b[39m \u001b[38;5;250m    \u001b[39m\u001b[33;03m\"\"\"\u001b[39;00m\n\u001b[32m    252\u001b[39m \u001b[33;03m    Method to plot the pressure heads, water contents and water fluxes.\u001b[39;00m\n\u001b[32m    253\u001b[39m \n\u001b[32m   (...)\u001b[39m\u001b[32m    264\u001b[39m \n\u001b[32m    265\u001b[39m \u001b[33;03m    \"\"\"\u001b[39;00m\n\u001b[32m--> \u001b[39m\u001b[32m266\u001b[39m     dfs = \u001b[38;5;28;43mself\u001b[39;49m\u001b[43m.\u001b[49m\u001b[43mml\u001b[49m\u001b[43m.\u001b[49m\u001b[43mread_obs_node\u001b[49m\u001b[43m(\u001b[49m\u001b[43m)\u001b[49m\n\u001b[32m    268\u001b[39m     _, ax = plt.subplots(figsize=figsize, **kwargs)\n\u001b[32m    269\u001b[39m     \u001b[38;5;28;01mfor\u001b[39;00m i, df \u001b[38;5;129;01min\u001b[39;00m dfs.items():\n",
      "\u001b[36mFile \u001b[39m\u001b[32md:\\Mestrado\\Trabalho Final\\Codigos\\libs\\Lib\\site-packages\\phydrus\\model.py:1394\u001b[39m, in \u001b[36mModel.read_obs_node\u001b[39m\u001b[34m(self, fname, nodes, conc, cols)\u001b[39m\n\u001b[32m   1391\u001b[39m \u001b[38;5;28;01mif\u001b[39;00m nodes \u001b[38;5;129;01mis\u001b[39;00m \u001b[38;5;28;01mNone\u001b[39;00m:\n\u001b[32m   1392\u001b[39m     nodes = \u001b[38;5;28mself\u001b[39m.obs_nodes\n\u001b[32m-> \u001b[39m\u001b[32m1394\u001b[39m data = \u001b[43mread_obs_node\u001b[49m\u001b[43m(\u001b[49m\u001b[43mpath\u001b[49m\u001b[43m=\u001b[49m\u001b[43mpath\u001b[49m\u001b[43m,\u001b[49m\u001b[43m \u001b[49m\u001b[43mnodes\u001b[49m\u001b[43m=\u001b[49m\u001b[43mnodes\u001b[49m\u001b[43m,\u001b[49m\u001b[43m \u001b[49m\u001b[43mconc\u001b[49m\u001b[43m=\u001b[49m\u001b[43mconc\u001b[49m\u001b[43m,\u001b[49m\u001b[43m \u001b[49m\u001b[43mcols\u001b[49m\u001b[43m=\u001b[49m\u001b[43mcols\u001b[49m\u001b[43m)\u001b[49m\n\u001b[32m   1395\u001b[39m \u001b[38;5;28;01mreturn\u001b[39;00m data\n",
      "\u001b[36mFile \u001b[39m\u001b[32md:\\Mestrado\\Trabalho Final\\Codigos\\libs\\Lib\\site-packages\\phydrus\\decorators.py:9\u001b[39m, in \u001b[36mcheck_file_path.<locals>._check_file_path\u001b[39m\u001b[34m(path, *args, **kwargs)\u001b[39m\n\u001b[32m      6\u001b[39m \u001b[38;5;129m@wraps\u001b[39m(function)\n\u001b[32m      7\u001b[39m \u001b[38;5;28;01mdef\u001b[39;00m\u001b[38;5;250m \u001b[39m\u001b[34m_check_file_path\u001b[39m(path, *args, **kwargs):\n\u001b[32m      8\u001b[39m     \u001b[38;5;28;01mif\u001b[39;00m \u001b[38;5;129;01mnot\u001b[39;00m os.path.exists(path):\n\u001b[32m----> \u001b[39m\u001b[32m9\u001b[39m         \u001b[38;5;28;01mraise\u001b[39;00m \u001b[38;5;167;01mFileNotFoundError\u001b[39;00m(\n\u001b[32m     10\u001b[39m             \u001b[33m\"\u001b[39m\u001b[33mFile \u001b[39m\u001b[38;5;132;01m{}\u001b[39;00m\u001b[33m has not been found.\u001b[39m\u001b[33m\"\u001b[39m.format(path))\n\u001b[32m     11\u001b[39m     \u001b[38;5;28;01melse\u001b[39;00m:\n\u001b[32m     12\u001b[39m         \u001b[38;5;28;01mreturn\u001b[39;00m function(path, *args, **kwargs)\n",
      "\u001b[31mFileNotFoundError\u001b[39m: File example_1\\OBS_NODE.OUT has not been found."
     ]
    }
   ],
   "source": [
    "ml.plots.obs_points()"
   ]
  },
  {
   "cell_type": "code",
   "execution_count": null,
   "id": "ca478128",
   "metadata": {},
   "outputs": [],
   "source": [
    "ml.plots.profile_information()"
   ]
  },
  {
   "cell_type": "code",
   "execution_count": null,
   "id": "cd74ab08",
   "metadata": {},
   "outputs": [],
   "source": [
    "ml.plots.profile_information(\"Water Content\")"
   ]
  },
  {
   "cell_type": "code",
   "execution_count": null,
   "id": "0e2ab4d0",
   "metadata": {},
   "outputs": [],
   "source": [
    "ml.plots.water_flow(data=\"Actual Surface Flux\")"
   ]
  },
  {
   "cell_type": "code",
   "execution_count": null,
   "id": "6303fa0c",
   "metadata": {},
   "outputs": [],
   "source": [
    "ml.plots.water_flow(data=\"Bottom Flux\")"
   ]
  },
  {
   "cell_type": "code",
   "execution_count": null,
   "id": "2e7212f2",
   "metadata": {},
   "outputs": [],
   "source": [
    "ml.plots.soil_properties()"
   ]
  }
 ],
 "metadata": {
  "kernelspec": {
   "display_name": "libs",
   "language": "python",
   "name": "python3"
  },
  "language_info": {
   "codemirror_mode": {
    "name": "ipython",
    "version": 3
   },
   "file_extension": ".py",
   "mimetype": "text/x-python",
   "name": "python",
   "nbconvert_exporter": "python",
   "pygments_lexer": "ipython3",
   "version": "3.12.8"
  }
 },
 "nbformat": 4,
 "nbformat_minor": 5
}
